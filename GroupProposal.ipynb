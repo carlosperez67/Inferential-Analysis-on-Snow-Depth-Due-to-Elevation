{
 "cells": [
  {
   "cell_type": "markdown",
   "id": "9d73ba51-6c15-4251-9703-d6c8c222dcef",
   "metadata": {},
   "source": [
    "# Inferential Analysis on Changes in Snow Depth Due to Elevation"
   ]
  },
  {
   "cell_type": "markdown",
   "id": "1a5f3954-38e9-4c2f-a55f-289aa43795b7",
   "metadata": {},
   "source": [
    "### Introduction"
   ]
  },
  {
   "cell_type": "markdown",
   "id": "f93d57dc-61cc-4b1b-9ab2-7c21754bc47a",
   "metadata": {},
   "source": [
    "jsdklfgs nufk wefqw few"
   ]
  },
  {
   "cell_type": "code",
   "execution_count": null,
   "id": "6dedcc8e-bd45-4334-b6f2-e00fdb8e39f6",
   "metadata": {},
   "outputs": [],
   "source": []
  }
 ],
 "metadata": {
  "kernelspec": {
   "display_name": "R",
   "language": "R",
   "name": "ir"
  },
  "language_info": {
   "codemirror_mode": "r",
   "file_extension": ".r",
   "mimetype": "text/x-r-source",
   "name": "R",
   "pygments_lexer": "r",
   "version": "4.1.3"
  }
 },
 "nbformat": 4,
 "nbformat_minor": 5
}
