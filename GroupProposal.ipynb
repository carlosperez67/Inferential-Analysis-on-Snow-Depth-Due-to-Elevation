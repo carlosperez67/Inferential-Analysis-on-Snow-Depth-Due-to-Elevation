{
 "cells": [
  {
   "cell_type": "markdown",
   "id": "9d73ba51-6c15-4251-9703-d6c8c222dcef",
   "metadata": {},
   "source": [
    "# Inferential Analysis on Changes in Snow Depth Due to Elevation"
   ]
  },
  {
   "cell_type": "markdown",
   "id": "1a5f3954-38e9-4c2f-a55f-289aa43795b7",
   "metadata": {},
   "source": [
    "## Introduction"
   ]
  },
  {
   "cell_type": "markdown",
   "id": "f93d57dc-61cc-4b1b-9ab2-7c21754bc47a",
   "metadata": {},
   "source": [
    "During the winter season, many people like to go hit the slopes to have some fun, and even more so in BC as the province is home to many world-renowned skiing destinations. When choosing a location, one of the main factors perceived by many that contribute to a greater skiing experience is the elevation of the mountain, as it’s believed that a higher elevation leads to an increase in snow depth which helps improve one’s skiing experience. This relationship between elevation and snow depth is a popular claim by the public, with one study suggesting a positive correlation between elevation and snow depth and another suggesting a similar proposition up to an elevation of 3300 meters (Grünewald et al., 2014; Kirchner et al., 2014). As skiing hobbyists ourselves, we wanted to set out and investigate whether this claim is statistically significant. We decided to focus on locations within BC for relevancy, and settled on comparing the snow depths captured by automated snow weather stations placed in two locations with a distinct difference in elevation: Callaghan, an area just west of Whistler with an elevation of 1017 meters, and Silver Star Mountain, home to the famous Silver Star Ski Resort with an elevation of 1839 meters. As such, our question will be: does the higher elevation of Silver Star Mountain have a greater snow depth than the lower elevation of Callaghan?\n",
    "\n",
    "Our chosen location and scale parameter will be the mean and standard deviation, respectively. Finding the means of the samples allows us to carry out a one-tailed two-sample t-test which would be relevant for answering the question, while finding the standard deviations will allow us to observe the variability of the observations in each sample.\n",
    "\n",
    "We’ll be using two datasets from the BC government containing samples of snow depth in centimeters, captured by snow weather stations located in Callaghan and Silver Star Mountain as previously stated. The datasets will be filtered down to contain observations only in the month of January from 2019-2022 for reduced variability in measurements caused by seasonal changes (Ye & Ellison, 2003)."
   ]
  },
  {
   "cell_type": "markdown",
   "id": "9bf9dfd9-5f01-428a-835f-e9da016ca45b",
   "metadata": {},
   "source": [
    "## Preliminary Results"
   ]
  },
  {
   "cell_type": "code",
   "execution_count": null,
   "id": "650362cc-3ddd-4e3e-a34d-39d958451548",
   "metadata": {},
   "outputs": [],
   "source": []
  },
  {
   "cell_type": "markdown",
   "id": "f761f4bd-44df-4b29-bf19-1db47416c2c3",
   "metadata": {},
   "source": [
    "## Methods: Plan"
   ]
  },
  {
   "cell_type": "markdown",
   "id": "977fabaa-ed44-4ed4-8f6e-8e70045f35e3",
   "metadata": {},
   "source": [
    "asdfasdfasdfasdfsadf"
   ]
  },
  {
   "cell_type": "markdown",
   "id": "256a8269-1c31-44ad-9b61-715b1b765570",
   "metadata": {},
   "source": [
    "##### What do we expect to find?"
   ]
  },
  {
   "cell_type": "markdown",
   "id": "20ba0eab-9ecb-415d-94b2-ffe8cfa1741d",
   "metadata": {},
   "source": [
    "- bullet point filler\n",
    "- hi"
   ]
  },
  {
   "cell_type": "markdown",
   "id": "12ce97ac-a4ac-472f-b787-92b162db7cf4",
   "metadata": {},
   "source": [
    "##### What impact could such findings have?"
   ]
  },
  {
   "cell_type": "markdown",
   "id": "8e383b49-8c74-4e98-88f3-a01947cb46a9",
   "metadata": {},
   "source": [
    "- bullet point filler\n",
    "- hi"
   ]
  },
  {
   "cell_type": "markdown",
   "id": "e0fb29b7-cfe7-48af-82ad-b4738112856a",
   "metadata": {},
   "source": [
    "##### What future questions could this lead to?"
   ]
  },
  {
   "cell_type": "markdown",
   "id": "df988f41-0ec5-4d3a-ae21-0695bd1b6ab7",
   "metadata": {},
   "source": [
    "- bullet point filler\n",
    "- hi"
   ]
  },
  {
   "cell_type": "markdown",
   "id": "67007423-0e7f-4f6a-9504-b26532447e8f",
   "metadata": {},
   "source": [
    "## References"
   ]
  },
  {
   "cell_type": "markdown",
   "id": "fcbfbbbe-4635-4bfd-8d3a-283c6cf6c6ec",
   "metadata": {},
   "source": [
    "Grünewald, T., Bühler, Y., & Lehning, M. (2014). Elevation dependency of mountain snow depth. The Cryosphere, 8(6), 2381–2394. https://doi.org/10.5194/tc-8-2381-2014\n",
    "\n",
    "Kirchner, P. B., Bales, R. C., Molotch, N. P., Flanagan, J., & Guo, Q. (2014). LiDAR measurement of seasonal snow accumulation along an elevation gradient in the southern Sierra Nevada, California. Hydrology and Earth System Sciences, 18(10), 4261–4275. https://doi.org/10.5194/hess-18-4261-2014\n",
    "\n",
    "Ye, H., & Ellison, M. (2003). Changes in transitional snowfall season length in northern Eurasia: TRANSITIONAL SNOWFALL SEASON. Geophysical Research Letters, 30(5), n/a-n/a. https://doi.org/10.1029/2003GL016873\n"
   ]
  },
  {
   "cell_type": "markdown",
   "id": "cfbaa1a2-870f-4228-bcbc-728c59c7a02d",
   "metadata": {},
   "source": [
    "# REMEMBER TO CITE DATA SETS"
   ]
  },
  {
   "cell_type": "code",
   "execution_count": null,
   "id": "305841b0-52b4-4653-922d-85fa8346ff05",
   "metadata": {},
   "outputs": [],
   "source": []
  }
 ],
 "metadata": {
  "kernelspec": {
   "display_name": "R",
   "language": "R",
   "name": "ir"
  },
  "language_info": {
   "codemirror_mode": "r",
   "file_extension": ".r",
   "mimetype": "text/x-r-source",
   "name": "R",
   "pygments_lexer": "r",
   "version": "4.1.3"
  }
 },
 "nbformat": 4,
 "nbformat_minor": 5
}
