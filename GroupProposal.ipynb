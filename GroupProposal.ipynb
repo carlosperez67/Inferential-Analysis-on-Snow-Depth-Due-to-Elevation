{
 "cells": [
  {
   "cell_type": "markdown",
   "id": "9d73ba51-6c15-4251-9703-d6c8c222dcef",
   "metadata": {},
   "source": [
    "# Group Project"
   ]
  },
  {
   "cell_type": "code",
   "execution_count": null,
   "id": "2385b73f-6ac8-4970-987e-ce432863d930",
   "metadata": {},
   "outputs": [],
   "source": []
  }
 ],
 "metadata": {
  "kernelspec": {
   "display_name": "R",
   "language": "R",
   "name": "ir"
  },
  "language_info": {
   "codemirror_mode": "r",
   "file_extension": ".r",
   "mimetype": "text/x-r-source",
   "name": "R",
   "pygments_lexer": "r",
   "version": "4.1.3"
  }
 },
 "nbformat": 4,
 "nbformat_minor": 5
}
