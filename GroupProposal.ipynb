{
 "cells": [
  {
   "cell_type": "markdown",
   "id": "9d73ba51-6c15-4251-9703-d6c8c222dcef",
   "metadata": {},
   "source": [
    "# Inferential Analysis on Changes in Snow Depth Due to Elevation"
   ]
  },
  {
   "cell_type": "markdown",
   "id": "1a5f3954-38e9-4c2f-a55f-289aa43795b7",
   "metadata": {},
   "source": [
    "## Introduction"
   ]
  },
  {
   "cell_type": "markdown",
   "id": "f93d57dc-61cc-4b1b-9ab2-7c21754bc47a",
   "metadata": {},
   "source": [
    "During the winter season, many people like to go hit the slopes to have some fun, and even more so in BC as the province is home to many world-renowned skiing destinations. When choosing a location, one of the main factors perceived by many that contribute to a greater skiing experience is the elevation of the mountain, as it’s believed that a higher elevation leads to an increase in snow depth which helps improve one’s skiing experience. This relationship between elevation and snow depth is a popular claim by the public, with one study suggesting a positive correlation between elevation and snow depth and another suggesting a similar proposition up to an elevation of 3300 meters (Grünewald et al., 2014; Kirchner et al., 2014). As skiing hobbyists ourselves, we wanted to set out and investigate whether this claim is statistically significant. We decided to focus on locations within BC for relevancy, and settled on comparing the snow depths captured by automated snow weather stations placed in two locations with a distinct difference in elevation: Callaghan, an area just west of Whistler with an elevation of 1017 meters, and Silver Star Mountain, home to the famous Silver Star Ski Resort with an elevation of 1839 meters. As such, our question will be: does the higher elevation of Silver Star Mountain have a greater snow depth than the lower elevation of Callaghan?\n",
    "\n",
    "Our chosen location and scale parameter will be the mean and standard deviation, respectively. Finding the means of the samples allows us to carry out a one-tailed two-sample t-test which would be relevant for answering the question, while finding the standard deviations will allow us to observe the variability of the observations in each sample.\n",
    "\n",
    "We’ll be using two datasets from the BC government containing samples of snow depth in centimeters, captured by snow weather stations located in Callaghan and Silver Star Mountain as previously stated. The datasets will be filtered down to contain observations only in the month of January from 2019-2022 for reduced variability in measurements caused by seasonal changes (Ye & Ellison, 2003)."
   ]
  },
  {
   "cell_type": "markdown",
   "id": "9bf9dfd9-5f01-428a-835f-e9da016ca45b",
   "metadata": {},
   "source": [
    "## Preliminary Results"
   ]
  },
  {
   "cell_type": "markdown",
   "id": "7e22703b-3a1b-44ba-86d0-5fbc551455e0",
   "metadata": {},
   "source": [
    "Loading necessary libraries:"
   ]
  },
  {
   "cell_type": "code",
   "execution_count": 48,
   "id": "650362cc-3ddd-4e3e-a34d-39d958451548",
   "metadata": {},
   "outputs": [
    {
     "name": "stderr",
     "output_type": "stream",
     "text": [
      "Installing package into ‘/home/jupyter/R/x86_64-pc-linux-gnu-library/4.1’\n",
      "(as ‘lib’ is unspecified)\n",
      "\n",
      "Installing package into ‘/home/jupyter/R/x86_64-pc-linux-gnu-library/4.1’\n",
      "(as ‘lib’ is unspecified)\n",
      "\n",
      "also installing the dependency ‘patchwork’\n",
      "\n",
      "\n"
     ]
    }
   ],
   "source": [
    "library(tidyverse)\n",
    "library(repr)\n",
    "library(digest)\n",
    "#library(infer)\n",
    "library(gridExtra)\n",
    "#library(cowplot)\n",
    "\n",
    "# Install the package\n",
    "install.packages(\"lubridate\")\n",
    "install.packages(\"infer\")\n",
    "# Load the package\n",
    "library(lubridate)\n",
    "library(infer)"
   ]
  },
  {
   "cell_type": "markdown",
   "id": "e32b1c8d-b48d-4ade-9884-3f30be974e77",
   "metadata": {},
   "source": [
    "Reading the csv data files from the data folder. Each corresponding csv file from each location is loaded into a different variable."
   ]
  },
  {
   "cell_type": "code",
   "execution_count": 49,
   "id": "adb64a54-dc90-4112-896f-355f727eea08",
   "metadata": {},
   "outputs": [
    {
     "data": {
      "text/html": [
       "<table class=\"dataframe\">\n",
       "<caption>A data.frame: 6 × 3</caption>\n",
       "<thead>\n",
       "\t<tr><th></th><th scope=col>Time</th><th scope=col>NULL.</th><th scope=col>AirTempCelcius</th></tr>\n",
       "\t<tr><th></th><th scope=col>&lt;chr&gt;</th><th scope=col>&lt;chr&gt;</th><th scope=col>&lt;chr&gt;</th></tr>\n",
       "</thead>\n",
       "<tbody>\n",
       "\t<tr><th scope=row>1</th><td>GRADEDESCRIPTIONS-3=GAP, -2=UNUSABLE, -1=UNSPECIFIED, 0=UNDEF, 11=POOR, 21=ESTIMATED, 25=BEST PRACTICE, 31=GOOD, 41=VERYGOOD, 51=EXCELLENT, APPROVALDESCRIPTIONS 800=WORKING, 900=IN REVIEW, 1200=APPROVED</td><td>                     </td><td>          </td></tr>\n",
       "\t<tr><th scope=row>2</th><td>Timestamp (UTC)                                                                                                                                                                                           </td><td>Event Timestamp (UTC)</td><td>Value (°C)</td></tr>\n",
       "\t<tr><th scope=row>3</th><td>2018-09-10 18:00:00                                                                                                                                                                                       </td><td>                     </td><td>3         </td></tr>\n",
       "\t<tr><th scope=row>4</th><td>2018-09-10 19:00:00                                                                                                                                                                                       </td><td>                     </td><td>3.8       </td></tr>\n",
       "\t<tr><th scope=row>5</th><td>2018-09-10 20:00:00                                                                                                                                                                                       </td><td>                     </td><td>5.7       </td></tr>\n",
       "\t<tr><th scope=row>6</th><td>2018-09-10 21:00:00                                                                                                                                                                                       </td><td>                     </td><td>6.3       </td></tr>\n",
       "</tbody>\n",
       "</table>\n"
      ],
      "text/latex": [
       "A data.frame: 6 × 3\n",
       "\\begin{tabular}{r|lll}\n",
       "  & Time & NULL. & AirTempCelcius\\\\\n",
       "  & <chr> & <chr> & <chr>\\\\\n",
       "\\hline\n",
       "\t1 & GRADEDESCRIPTIONS-3=GAP, -2=UNUSABLE, -1=UNSPECIFIED, 0=UNDEF, 11=POOR, 21=ESTIMATED, 25=BEST PRACTICE, 31=GOOD, 41=VERYGOOD, 51=EXCELLENT, APPROVALDESCRIPTIONS 800=WORKING, 900=IN REVIEW, 1200=APPROVED &                       &           \\\\\n",
       "\t2 & Timestamp (UTC)                                                                                                                                                                                            & Event Timestamp (UTC) & Value (°C)\\\\\n",
       "\t3 & 2018-09-10 18:00:00                                                                                                                                                                                        &                       & 3         \\\\\n",
       "\t4 & 2018-09-10 19:00:00                                                                                                                                                                                        &                       & 3.8       \\\\\n",
       "\t5 & 2018-09-10 20:00:00                                                                                                                                                                                        &                       & 5.7       \\\\\n",
       "\t6 & 2018-09-10 21:00:00                                                                                                                                                                                        &                       & 6.3       \\\\\n",
       "\\end{tabular}\n"
      ],
      "text/markdown": [
       "\n",
       "A data.frame: 6 × 3\n",
       "\n",
       "| <!--/--> | Time &lt;chr&gt; | NULL. &lt;chr&gt; | AirTempCelcius &lt;chr&gt; |\n",
       "|---|---|---|---|\n",
       "| 1 | GRADEDESCRIPTIONS-3=GAP, -2=UNUSABLE, -1=UNSPECIFIED, 0=UNDEF, 11=POOR, 21=ESTIMATED, 25=BEST PRACTICE, 31=GOOD, 41=VERYGOOD, 51=EXCELLENT, APPROVALDESCRIPTIONS 800=WORKING, 900=IN REVIEW, 1200=APPROVED | <!----> | <!----> |\n",
       "| 2 | Timestamp (UTC)                                                                                                                                                                                            | Event Timestamp (UTC) | Value (°C) |\n",
       "| 3 | 2018-09-10 18:00:00                                                                                                                                                                                        | <!----> | 3          |\n",
       "| 4 | 2018-09-10 19:00:00                                                                                                                                                                                        | <!----> | 3.8        |\n",
       "| 5 | 2018-09-10 20:00:00                                                                                                                                                                                        | <!----> | 5.7        |\n",
       "| 6 | 2018-09-10 21:00:00                                                                                                                                                                                        | <!----> | 6.3        |\n",
       "\n"
      ],
      "text/plain": [
       "  Time                                                                                                                                                                                                      \n",
       "1 GRADEDESCRIPTIONS-3=GAP, -2=UNUSABLE, -1=UNSPECIFIED, 0=UNDEF, 11=POOR, 21=ESTIMATED, 25=BEST PRACTICE, 31=GOOD, 41=VERYGOOD, 51=EXCELLENT, APPROVALDESCRIPTIONS 800=WORKING, 900=IN REVIEW, 1200=APPROVED\n",
       "2 Timestamp (UTC)                                                                                                                                                                                           \n",
       "3 2018-09-10 18:00:00                                                                                                                                                                                       \n",
       "4 2018-09-10 19:00:00                                                                                                                                                                                       \n",
       "5 2018-09-10 20:00:00                                                                                                                                                                                       \n",
       "6 2018-09-10 21:00:00                                                                                                                                                                                       \n",
       "  NULL.                 AirTempCelcius\n",
       "1                                     \n",
       "2 Event Timestamp (UTC) Value (°C)    \n",
       "3                       3             \n",
       "4                       3.8           \n",
       "5                       5.7           \n",
       "6                       6.3           "
      ]
     },
     "metadata": {},
     "output_type": "display_data"
    },
    {
     "data": {
      "text/html": [
       "<table class=\"dataframe\">\n",
       "<caption>A data.frame: 6 × 3</caption>\n",
       "<thead>\n",
       "\t<tr><th></th><th scope=col>Time</th><th scope=col>NULL.</th><th scope=col>SnowDepth</th></tr>\n",
       "\t<tr><th></th><th scope=col>&lt;chr&gt;</th><th scope=col>&lt;chr&gt;</th><th scope=col>&lt;chr&gt;</th></tr>\n",
       "</thead>\n",
       "<tbody>\n",
       "\t<tr><th scope=row>1</th><td>GRADEDESCRIPTIONS-3=GAP, -2=UNUSABLE, -1=UNSPECIFIED, 0=UNDEF, 11=POOR, 21=ESTIMATED, 25=BEST PRACTICE, 31=GOOD, 41=VERYGOOD, 51=EXCELLENT, APPROVALDESCRIPTIONS 800=WORKING, 900=IN REVIEW, 1200=APPROVED</td><td>                     </td><td>          </td></tr>\n",
       "\t<tr><th scope=row>2</th><td>Timestamp (UTC)                                                                                                                                                                                           </td><td>Event Timestamp (UTC)</td><td>Value (cm)</td></tr>\n",
       "\t<tr><th scope=row>3</th><td>2015-08-13 22:00:00                                                                                                                                                                                       </td><td>                     </td><td>0         </td></tr>\n",
       "\t<tr><th scope=row>4</th><td>2015-08-13 23:00:00                                                                                                                                                                                       </td><td>                     </td><td>5         </td></tr>\n",
       "\t<tr><th scope=row>5</th><td>2015-08-14 00:00:00                                                                                                                                                                                       </td><td>                     </td><td>-1        </td></tr>\n",
       "\t<tr><th scope=row>6</th><td>2015-08-14 01:00:00                                                                                                                                                                                       </td><td>                     </td><td>-4        </td></tr>\n",
       "</tbody>\n",
       "</table>\n"
      ],
      "text/latex": [
       "A data.frame: 6 × 3\n",
       "\\begin{tabular}{r|lll}\n",
       "  & Time & NULL. & SnowDepth\\\\\n",
       "  & <chr> & <chr> & <chr>\\\\\n",
       "\\hline\n",
       "\t1 & GRADEDESCRIPTIONS-3=GAP, -2=UNUSABLE, -1=UNSPECIFIED, 0=UNDEF, 11=POOR, 21=ESTIMATED, 25=BEST PRACTICE, 31=GOOD, 41=VERYGOOD, 51=EXCELLENT, APPROVALDESCRIPTIONS 800=WORKING, 900=IN REVIEW, 1200=APPROVED &                       &           \\\\\n",
       "\t2 & Timestamp (UTC)                                                                                                                                                                                            & Event Timestamp (UTC) & Value (cm)\\\\\n",
       "\t3 & 2015-08-13 22:00:00                                                                                                                                                                                        &                       & 0         \\\\\n",
       "\t4 & 2015-08-13 23:00:00                                                                                                                                                                                        &                       & 5         \\\\\n",
       "\t5 & 2015-08-14 00:00:00                                                                                                                                                                                        &                       & -1        \\\\\n",
       "\t6 & 2015-08-14 01:00:00                                                                                                                                                                                        &                       & -4        \\\\\n",
       "\\end{tabular}\n"
      ],
      "text/markdown": [
       "\n",
       "A data.frame: 6 × 3\n",
       "\n",
       "| <!--/--> | Time &lt;chr&gt; | NULL. &lt;chr&gt; | SnowDepth &lt;chr&gt; |\n",
       "|---|---|---|---|\n",
       "| 1 | GRADEDESCRIPTIONS-3=GAP, -2=UNUSABLE, -1=UNSPECIFIED, 0=UNDEF, 11=POOR, 21=ESTIMATED, 25=BEST PRACTICE, 31=GOOD, 41=VERYGOOD, 51=EXCELLENT, APPROVALDESCRIPTIONS 800=WORKING, 900=IN REVIEW, 1200=APPROVED | <!----> | <!----> |\n",
       "| 2 | Timestamp (UTC)                                                                                                                                                                                            | Event Timestamp (UTC) | Value (cm) |\n",
       "| 3 | 2015-08-13 22:00:00                                                                                                                                                                                        | <!----> | 0          |\n",
       "| 4 | 2015-08-13 23:00:00                                                                                                                                                                                        | <!----> | 5          |\n",
       "| 5 | 2015-08-14 00:00:00                                                                                                                                                                                        | <!----> | -1         |\n",
       "| 6 | 2015-08-14 01:00:00                                                                                                                                                                                        | <!----> | -4         |\n",
       "\n"
      ],
      "text/plain": [
       "  Time                                                                                                                                                                                                      \n",
       "1 GRADEDESCRIPTIONS-3=GAP, -2=UNUSABLE, -1=UNSPECIFIED, 0=UNDEF, 11=POOR, 21=ESTIMATED, 25=BEST PRACTICE, 31=GOOD, 41=VERYGOOD, 51=EXCELLENT, APPROVALDESCRIPTIONS 800=WORKING, 900=IN REVIEW, 1200=APPROVED\n",
       "2 Timestamp (UTC)                                                                                                                                                                                           \n",
       "3 2015-08-13 22:00:00                                                                                                                                                                                       \n",
       "4 2015-08-13 23:00:00                                                                                                                                                                                       \n",
       "5 2015-08-14 00:00:00                                                                                                                                                                                       \n",
       "6 2015-08-14 01:00:00                                                                                                                                                                                       \n",
       "  NULL.                 SnowDepth \n",
       "1                                 \n",
       "2 Event Timestamp (UTC) Value (cm)\n",
       "3                       0         \n",
       "4                       5         \n",
       "5                       -1        \n",
       "6                       -4        "
      ]
     },
     "metadata": {},
     "output_type": "display_data"
    }
   ],
   "source": [
    "snow_depth_callaghan <- read.csv(file = 'data/Callaghan/SD.csv', col.names = c(\"Time\", \"NULL\", \"SnowDepth\"))\n",
    "snow_depth_silverstar <- read.csv(file = 'data/SilverStar/SD.csv', col.names = c(\"Time\", \"NULL\", \"SnowDepth\"))\n",
    "air_temp_callaghan <- read.csv(file = 'data/Callaghan/AT.csv', col.names = c(\"Time\", \"NULL\", \"AirTempCelcius\"))\n",
    "air_temp_silverstar <- read.csv(file = 'data/SilverStar/AT.csv', col.names = c(\"Time\", \"NULL\", \"AirTempCelcius\"))\n",
    "\n",
    "head(air_temp_silverstar)\n",
    "head(snow_depth_silverstar)"
   ]
  },
  {
   "cell_type": "markdown",
   "id": "5d7096e8-dc58-4c0b-b01b-a9ced931749a",
   "metadata": {},
   "source": [
    "As you can see above, we must from tidy and wrangle the data. "
   ]
  },
  {
   "cell_type": "code",
   "execution_count": 50,
   "id": "3eee4b6e-5389-4a08-b7fb-acee6473de1a",
   "metadata": {},
   "outputs": [
    {
     "name": "stderr",
     "output_type": "stream",
     "text": [
      "Warning message in mask$eval_all_mutate(quo):\n",
      "“NAs introduced by coercion”\n",
      "Warning message in mask$eval_all_mutate(quo):\n",
      "“NAs introduced by coercion”\n",
      "Warning message in mask$eval_all_mutate(quo):\n",
      "“NAs introduced by coercion”\n",
      "Warning message in mask$eval_all_mutate(quo):\n",
      "“NAs introduced by coercion”\n"
     ]
    },
    {
     "data": {
      "text/html": [
       "<table class=\"dataframe\">\n",
       "<caption>A data.frame: 6 × 3</caption>\n",
       "<thead>\n",
       "\t<tr><th></th><th scope=col>Time</th><th scope=col>SnowDepth</th><th scope=col>Location</th></tr>\n",
       "\t<tr><th></th><th scope=col>&lt;dttm&gt;</th><th scope=col>&lt;dbl&gt;</th><th scope=col>&lt;chr&gt;</th></tr>\n",
       "</thead>\n",
       "<tbody>\n",
       "\t<tr><th scope=row>1</th><td>2015-08-13 22:00:00</td><td>0</td><td>SilverStar</td></tr>\n",
       "\t<tr><th scope=row>2</th><td>2015-08-13 23:00:00</td><td>5</td><td>SilverStar</td></tr>\n",
       "\t<tr><th scope=row>3</th><td>2015-08-14 04:00:00</td><td>2</td><td>SilverStar</td></tr>\n",
       "\t<tr><th scope=row>4</th><td>2015-08-14 05:00:00</td><td>3</td><td>SilverStar</td></tr>\n",
       "\t<tr><th scope=row>5</th><td>2015-08-14 06:00:00</td><td>2</td><td>SilverStar</td></tr>\n",
       "\t<tr><th scope=row>6</th><td>2015-08-14 07:00:00</td><td>2</td><td>SilverStar</td></tr>\n",
       "</tbody>\n",
       "</table>\n"
      ],
      "text/latex": [
       "A data.frame: 6 × 3\n",
       "\\begin{tabular}{r|lll}\n",
       "  & Time & SnowDepth & Location\\\\\n",
       "  & <dttm> & <dbl> & <chr>\\\\\n",
       "\\hline\n",
       "\t1 & 2015-08-13 22:00:00 & 0 & SilverStar\\\\\n",
       "\t2 & 2015-08-13 23:00:00 & 5 & SilverStar\\\\\n",
       "\t3 & 2015-08-14 04:00:00 & 2 & SilverStar\\\\\n",
       "\t4 & 2015-08-14 05:00:00 & 3 & SilverStar\\\\\n",
       "\t5 & 2015-08-14 06:00:00 & 2 & SilverStar\\\\\n",
       "\t6 & 2015-08-14 07:00:00 & 2 & SilverStar\\\\\n",
       "\\end{tabular}\n"
      ],
      "text/markdown": [
       "\n",
       "A data.frame: 6 × 3\n",
       "\n",
       "| <!--/--> | Time &lt;dttm&gt; | SnowDepth &lt;dbl&gt; | Location &lt;chr&gt; |\n",
       "|---|---|---|---|\n",
       "| 1 | 2015-08-13 22:00:00 | 0 | SilverStar |\n",
       "| 2 | 2015-08-13 23:00:00 | 5 | SilverStar |\n",
       "| 3 | 2015-08-14 04:00:00 | 2 | SilverStar |\n",
       "| 4 | 2015-08-14 05:00:00 | 3 | SilverStar |\n",
       "| 5 | 2015-08-14 06:00:00 | 2 | SilverStar |\n",
       "| 6 | 2015-08-14 07:00:00 | 2 | SilverStar |\n",
       "\n"
      ],
      "text/plain": [
       "  Time                SnowDepth Location  \n",
       "1 2015-08-13 22:00:00 0         SilverStar\n",
       "2 2015-08-13 23:00:00 5         SilverStar\n",
       "3 2015-08-14 04:00:00 2         SilverStar\n",
       "4 2015-08-14 05:00:00 3         SilverStar\n",
       "5 2015-08-14 06:00:00 2         SilverStar\n",
       "6 2015-08-14 07:00:00 2         SilverStar"
      ]
     },
     "metadata": {},
     "output_type": "display_data"
    },
    {
     "data": {
      "text/html": [
       "<table class=\"dataframe\">\n",
       "<caption>A data.frame: 6 × 3</caption>\n",
       "<thead>\n",
       "\t<tr><th></th><th scope=col>Time</th><th scope=col>SnowDepth</th><th scope=col>Location</th></tr>\n",
       "\t<tr><th></th><th scope=col>&lt;dttm&gt;</th><th scope=col>&lt;dbl&gt;</th><th scope=col>&lt;chr&gt;</th></tr>\n",
       "</thead>\n",
       "<tbody>\n",
       "\t<tr><th scope=row>1</th><td>2018-12-10 23:00:00</td><td>27.7</td><td>Callaghan</td></tr>\n",
       "\t<tr><th scope=row>2</th><td>2018-12-11 00:00:00</td><td>27.7</td><td>Callaghan</td></tr>\n",
       "\t<tr><th scope=row>3</th><td>2018-12-11 01:00:00</td><td>27.5</td><td>Callaghan</td></tr>\n",
       "\t<tr><th scope=row>4</th><td>2018-12-11 02:00:00</td><td>28.0</td><td>Callaghan</td></tr>\n",
       "\t<tr><th scope=row>5</th><td>2018-12-11 03:00:00</td><td>28.2</td><td>Callaghan</td></tr>\n",
       "\t<tr><th scope=row>6</th><td>2018-12-11 04:00:00</td><td>28.4</td><td>Callaghan</td></tr>\n",
       "</tbody>\n",
       "</table>\n"
      ],
      "text/latex": [
       "A data.frame: 6 × 3\n",
       "\\begin{tabular}{r|lll}\n",
       "  & Time & SnowDepth & Location\\\\\n",
       "  & <dttm> & <dbl> & <chr>\\\\\n",
       "\\hline\n",
       "\t1 & 2018-12-10 23:00:00 & 27.7 & Callaghan\\\\\n",
       "\t2 & 2018-12-11 00:00:00 & 27.7 & Callaghan\\\\\n",
       "\t3 & 2018-12-11 01:00:00 & 27.5 & Callaghan\\\\\n",
       "\t4 & 2018-12-11 02:00:00 & 28.0 & Callaghan\\\\\n",
       "\t5 & 2018-12-11 03:00:00 & 28.2 & Callaghan\\\\\n",
       "\t6 & 2018-12-11 04:00:00 & 28.4 & Callaghan\\\\\n",
       "\\end{tabular}\n"
      ],
      "text/markdown": [
       "\n",
       "A data.frame: 6 × 3\n",
       "\n",
       "| <!--/--> | Time &lt;dttm&gt; | SnowDepth &lt;dbl&gt; | Location &lt;chr&gt; |\n",
       "|---|---|---|---|\n",
       "| 1 | 2018-12-10 23:00:00 | 27.7 | Callaghan |\n",
       "| 2 | 2018-12-11 00:00:00 | 27.7 | Callaghan |\n",
       "| 3 | 2018-12-11 01:00:00 | 27.5 | Callaghan |\n",
       "| 4 | 2018-12-11 02:00:00 | 28.0 | Callaghan |\n",
       "| 5 | 2018-12-11 03:00:00 | 28.2 | Callaghan |\n",
       "| 6 | 2018-12-11 04:00:00 | 28.4 | Callaghan |\n",
       "\n"
      ],
      "text/plain": [
       "  Time                SnowDepth Location \n",
       "1 2018-12-10 23:00:00 27.7      Callaghan\n",
       "2 2018-12-11 00:00:00 27.7      Callaghan\n",
       "3 2018-12-11 01:00:00 27.5      Callaghan\n",
       "4 2018-12-11 02:00:00 28.0      Callaghan\n",
       "5 2018-12-11 03:00:00 28.2      Callaghan\n",
       "6 2018-12-11 04:00:00 28.4      Callaghan"
      ]
     },
     "metadata": {},
     "output_type": "display_data"
    },
    {
     "data": {
      "text/html": [
       "<table class=\"dataframe\">\n",
       "<caption>A data.frame: 6 × 3</caption>\n",
       "<thead>\n",
       "\t<tr><th></th><th scope=col>Time</th><th scope=col>AirTempCelcius</th><th scope=col>Location</th></tr>\n",
       "\t<tr><th></th><th scope=col>&lt;dttm&gt;</th><th scope=col>&lt;dbl&gt;</th><th scope=col>&lt;chr&gt;</th></tr>\n",
       "</thead>\n",
       "<tbody>\n",
       "\t<tr><th scope=row>1</th><td>2018-09-10 18:00:00</td><td>3.0</td><td>SilverStar</td></tr>\n",
       "\t<tr><th scope=row>2</th><td>2018-09-10 19:00:00</td><td>3.8</td><td>SilverStar</td></tr>\n",
       "\t<tr><th scope=row>3</th><td>2018-09-10 20:00:00</td><td>5.7</td><td>SilverStar</td></tr>\n",
       "\t<tr><th scope=row>4</th><td>2018-09-10 21:00:00</td><td>6.3</td><td>SilverStar</td></tr>\n",
       "\t<tr><th scope=row>5</th><td>2018-09-10 22:00:00</td><td>6.2</td><td>SilverStar</td></tr>\n",
       "\t<tr><th scope=row>6</th><td>2018-09-10 23:00:00</td><td>5.7</td><td>SilverStar</td></tr>\n",
       "</tbody>\n",
       "</table>\n"
      ],
      "text/latex": [
       "A data.frame: 6 × 3\n",
       "\\begin{tabular}{r|lll}\n",
       "  & Time & AirTempCelcius & Location\\\\\n",
       "  & <dttm> & <dbl> & <chr>\\\\\n",
       "\\hline\n",
       "\t1 & 2018-09-10 18:00:00 & 3.0 & SilverStar\\\\\n",
       "\t2 & 2018-09-10 19:00:00 & 3.8 & SilverStar\\\\\n",
       "\t3 & 2018-09-10 20:00:00 & 5.7 & SilverStar\\\\\n",
       "\t4 & 2018-09-10 21:00:00 & 6.3 & SilverStar\\\\\n",
       "\t5 & 2018-09-10 22:00:00 & 6.2 & SilverStar\\\\\n",
       "\t6 & 2018-09-10 23:00:00 & 5.7 & SilverStar\\\\\n",
       "\\end{tabular}\n"
      ],
      "text/markdown": [
       "\n",
       "A data.frame: 6 × 3\n",
       "\n",
       "| <!--/--> | Time &lt;dttm&gt; | AirTempCelcius &lt;dbl&gt; | Location &lt;chr&gt; |\n",
       "|---|---|---|---|\n",
       "| 1 | 2018-09-10 18:00:00 | 3.0 | SilverStar |\n",
       "| 2 | 2018-09-10 19:00:00 | 3.8 | SilverStar |\n",
       "| 3 | 2018-09-10 20:00:00 | 5.7 | SilverStar |\n",
       "| 4 | 2018-09-10 21:00:00 | 6.3 | SilverStar |\n",
       "| 5 | 2018-09-10 22:00:00 | 6.2 | SilverStar |\n",
       "| 6 | 2018-09-10 23:00:00 | 5.7 | SilverStar |\n",
       "\n"
      ],
      "text/plain": [
       "  Time                AirTempCelcius Location  \n",
       "1 2018-09-10 18:00:00 3.0            SilverStar\n",
       "2 2018-09-10 19:00:00 3.8            SilverStar\n",
       "3 2018-09-10 20:00:00 5.7            SilverStar\n",
       "4 2018-09-10 21:00:00 6.3            SilverStar\n",
       "5 2018-09-10 22:00:00 6.2            SilverStar\n",
       "6 2018-09-10 23:00:00 5.7            SilverStar"
      ]
     },
     "metadata": {},
     "output_type": "display_data"
    },
    {
     "data": {
      "text/html": [
       "<table class=\"dataframe\">\n",
       "<caption>A data.frame: 6 × 3</caption>\n",
       "<thead>\n",
       "\t<tr><th></th><th scope=col>Time</th><th scope=col>AirTempCelcius</th><th scope=col>Location</th></tr>\n",
       "\t<tr><th></th><th scope=col>&lt;dttm&gt;</th><th scope=col>&lt;dbl&gt;</th><th scope=col>&lt;chr&gt;</th></tr>\n",
       "</thead>\n",
       "<tbody>\n",
       "\t<tr><th scope=row>1</th><td>2018-10-31 18:00:00</td><td>3.2</td><td>Callaghan</td></tr>\n",
       "\t<tr><th scope=row>2</th><td>2018-10-31 19:00:00</td><td>3.2</td><td>Callaghan</td></tr>\n",
       "\t<tr><th scope=row>3</th><td>2018-10-31 20:00:00</td><td>3.5</td><td>Callaghan</td></tr>\n",
       "\t<tr><th scope=row>4</th><td>2018-10-31 21:00:00</td><td>3.9</td><td>Callaghan</td></tr>\n",
       "\t<tr><th scope=row>5</th><td>2018-10-31 22:00:00</td><td>4.1</td><td>Callaghan</td></tr>\n",
       "\t<tr><th scope=row>6</th><td>2018-10-31 23:00:00</td><td>4.3</td><td>Callaghan</td></tr>\n",
       "</tbody>\n",
       "</table>\n"
      ],
      "text/latex": [
       "A data.frame: 6 × 3\n",
       "\\begin{tabular}{r|lll}\n",
       "  & Time & AirTempCelcius & Location\\\\\n",
       "  & <dttm> & <dbl> & <chr>\\\\\n",
       "\\hline\n",
       "\t1 & 2018-10-31 18:00:00 & 3.2 & Callaghan\\\\\n",
       "\t2 & 2018-10-31 19:00:00 & 3.2 & Callaghan\\\\\n",
       "\t3 & 2018-10-31 20:00:00 & 3.5 & Callaghan\\\\\n",
       "\t4 & 2018-10-31 21:00:00 & 3.9 & Callaghan\\\\\n",
       "\t5 & 2018-10-31 22:00:00 & 4.1 & Callaghan\\\\\n",
       "\t6 & 2018-10-31 23:00:00 & 4.3 & Callaghan\\\\\n",
       "\\end{tabular}\n"
      ],
      "text/markdown": [
       "\n",
       "A data.frame: 6 × 3\n",
       "\n",
       "| <!--/--> | Time &lt;dttm&gt; | AirTempCelcius &lt;dbl&gt; | Location &lt;chr&gt; |\n",
       "|---|---|---|---|\n",
       "| 1 | 2018-10-31 18:00:00 | 3.2 | Callaghan |\n",
       "| 2 | 2018-10-31 19:00:00 | 3.2 | Callaghan |\n",
       "| 3 | 2018-10-31 20:00:00 | 3.5 | Callaghan |\n",
       "| 4 | 2018-10-31 21:00:00 | 3.9 | Callaghan |\n",
       "| 5 | 2018-10-31 22:00:00 | 4.1 | Callaghan |\n",
       "| 6 | 2018-10-31 23:00:00 | 4.3 | Callaghan |\n",
       "\n"
      ],
      "text/plain": [
       "  Time                AirTempCelcius Location \n",
       "1 2018-10-31 18:00:00 3.2            Callaghan\n",
       "2 2018-10-31 19:00:00 3.2            Callaghan\n",
       "3 2018-10-31 20:00:00 3.5            Callaghan\n",
       "4 2018-10-31 21:00:00 3.9            Callaghan\n",
       "5 2018-10-31 22:00:00 4.1            Callaghan\n",
       "6 2018-10-31 23:00:00 4.3            Callaghan"
      ]
     },
     "metadata": {},
     "output_type": "display_data"
    }
   ],
   "source": [
    "# For Each DataSet we filter away the Null/NA values. Then we convert the charachter dates to R's built in date object type.\n",
    "# Next for the snowdepth we filter away the negative snow depths (impossible/instrument error)\n",
    "snow_depth_silverstar <- snow_depth_silverstar %>%\n",
    "    filter(!is.na(SnowDepth)) %>%\n",
    "    mutate(Time = strptime(Time, tz = \"GMT\", format = \"%Y-%m-%d %H:%M:%S\"),\n",
    "          SnowDepth = as.numeric(SnowDepth),\n",
    "          Location = \"SilverStar\") %>%\n",
    "    filter(SnowDepth >= 0, !is.na(SnowDepth)) |>\n",
    "    select(Time, SnowDepth, Location)\n",
    "\n",
    "snow_depth_callaghan <- snow_depth_callaghan %>%\n",
    "    filter(!is.na(SnowDepth)) %>%\n",
    "    mutate(Time = strptime(Time, tz = \"GMT\", format = \"%Y-%m-%d %H:%M:%S\"),\n",
    "          SnowDepth = as.numeric(SnowDepth),\n",
    "          Location = \"Callaghan\") %>%\n",
    "    filter(SnowDepth >= 0, !is.na(SnowDepth)) |>\n",
    "    select(Time, SnowDepth, Location)\n",
    "\n",
    "air_temp_callaghan <- air_temp_callaghan %>%\n",
    "    filter(!is.na(AirTempCelcius)) %>%\n",
    "    mutate(Time = strptime(Time, tz = \"GMT\", format = \"%Y-%m-%d %H:%M:%S\"),\n",
    "          AirTempCelcius = as.numeric(AirTempCelcius),\n",
    "          Location = \"Callaghan\") %>%\n",
    "    filter(!is.na(AirTempCelcius)) |>\n",
    "    select(Time, AirTempCelcius, Location)\n",
    "\n",
    "air_temp_silverstar <- air_temp_silverstar %>%\n",
    "    filter(!is.na(AirTempCelcius)) %>%\n",
    "    mutate(Time = strptime(Time, tz = \"GMT\", format = \"%Y-%m-%d %H:%M:%S\"),\n",
    "          AirTempCelcius = as.numeric(AirTempCelcius),\n",
    "          Location = \"SilverStar\") %>%\n",
    "    filter(!is.na(AirTempCelcius)) |>\n",
    "    select(Time, AirTempCelcius, Location)\n",
    "\n",
    "\n",
    "\n",
    "head(snow_depth_silverstar)\n",
    "head(snow_depth_callaghan)\n",
    "head(air_temp_silverstar)\n",
    "head(air_temp_callaghan)"
   ]
  },
  {
   "cell_type": "markdown",
   "id": "a83b5583-6bbf-4277-a8cd-6bc1845e789b",
   "metadata": {},
   "source": [
    "Next lets join all these data sets together. "
   ]
  },
  {
   "cell_type": "code",
   "execution_count": 55,
   "id": "f8e86bce-5092-4307-8789-23131ccf09b3",
   "metadata": {},
   "outputs": [
    {
     "data": {
      "text/html": [
       "<table class=\"dataframe\">\n",
       "<caption>A data.frame: 6 × 4</caption>\n",
       "<thead>\n",
       "\t<tr><th></th><th scope=col>Time</th><th scope=col>Location</th><th scope=col>SnowDepth</th><th scope=col>AirTempCelcius</th></tr>\n",
       "\t<tr><th></th><th scope=col>&lt;dttm&gt;</th><th scope=col>&lt;chr&gt;</th><th scope=col>&lt;dbl&gt;</th><th scope=col>&lt;dbl&gt;</th></tr>\n",
       "</thead>\n",
       "<tbody>\n",
       "\t<tr><th scope=row>1</th><td>2018-09-11 09:00:00</td><td>SilverStar</td><td>3</td><td>2.1</td></tr>\n",
       "\t<tr><th scope=row>2</th><td>2018-09-12 14:00:00</td><td>SilverStar</td><td>0</td><td>1.8</td></tr>\n",
       "\t<tr><th scope=row>3</th><td>2018-09-12 18:00:00</td><td>SilverStar</td><td>3</td><td>4.0</td></tr>\n",
       "\t<tr><th scope=row>4</th><td>2018-09-13 15:00:00</td><td>SilverStar</td><td>1</td><td>1.1</td></tr>\n",
       "\t<tr><th scope=row>5</th><td>2018-09-17 01:00:00</td><td>SilverStar</td><td>0</td><td>0.4</td></tr>\n",
       "\t<tr><th scope=row>6</th><td>2018-09-18 17:00:00</td><td>SilverStar</td><td>3</td><td>2.2</td></tr>\n",
       "</tbody>\n",
       "</table>\n"
      ],
      "text/latex": [
       "A data.frame: 6 × 4\n",
       "\\begin{tabular}{r|llll}\n",
       "  & Time & Location & SnowDepth & AirTempCelcius\\\\\n",
       "  & <dttm> & <chr> & <dbl> & <dbl>\\\\\n",
       "\\hline\n",
       "\t1 & 2018-09-11 09:00:00 & SilverStar & 3 & 2.1\\\\\n",
       "\t2 & 2018-09-12 14:00:00 & SilverStar & 0 & 1.8\\\\\n",
       "\t3 & 2018-09-12 18:00:00 & SilverStar & 3 & 4.0\\\\\n",
       "\t4 & 2018-09-13 15:00:00 & SilverStar & 1 & 1.1\\\\\n",
       "\t5 & 2018-09-17 01:00:00 & SilverStar & 0 & 0.4\\\\\n",
       "\t6 & 2018-09-18 17:00:00 & SilverStar & 3 & 2.2\\\\\n",
       "\\end{tabular}\n"
      ],
      "text/markdown": [
       "\n",
       "A data.frame: 6 × 4\n",
       "\n",
       "| <!--/--> | Time &lt;dttm&gt; | Location &lt;chr&gt; | SnowDepth &lt;dbl&gt; | AirTempCelcius &lt;dbl&gt; |\n",
       "|---|---|---|---|---|\n",
       "| 1 | 2018-09-11 09:00:00 | SilverStar | 3 | 2.1 |\n",
       "| 2 | 2018-09-12 14:00:00 | SilverStar | 0 | 1.8 |\n",
       "| 3 | 2018-09-12 18:00:00 | SilverStar | 3 | 4.0 |\n",
       "| 4 | 2018-09-13 15:00:00 | SilverStar | 1 | 1.1 |\n",
       "| 5 | 2018-09-17 01:00:00 | SilverStar | 0 | 0.4 |\n",
       "| 6 | 2018-09-18 17:00:00 | SilverStar | 3 | 2.2 |\n",
       "\n"
      ],
      "text/plain": [
       "  Time                Location   SnowDepth AirTempCelcius\n",
       "1 2018-09-11 09:00:00 SilverStar 3         2.1           \n",
       "2 2018-09-12 14:00:00 SilverStar 0         1.8           \n",
       "3 2018-09-12 18:00:00 SilverStar 3         4.0           \n",
       "4 2018-09-13 15:00:00 SilverStar 1         1.1           \n",
       "5 2018-09-17 01:00:00 SilverStar 0         0.4           \n",
       "6 2018-09-18 17:00:00 SilverStar 3         2.2           "
      ]
     },
     "metadata": {},
     "output_type": "display_data"
    }
   ],
   "source": [
    "#Adding All the SnowDepth Data together\n",
    "snow_data <- rbind(snow_depth_silverstar,snow_depth_callaghan)\n",
    "#head(snow_data)\n",
    "#Adding All the AirTemp Data together\n",
    "temp_data <- rbind(air_temp_silverstar,air_temp_callaghan)\n",
    "#head(temp_data)\n",
    "\n",
    "#Adding all the telementary data together:\n",
    "telementary <- merge(snow_data, temp_data)\n",
    "head(telementary)\n",
    "\n"
   ]
  },
  {
   "cell_type": "markdown",
   "id": "1140776e-9991-40ec-b007-5058a5e9c379",
   "metadata": {},
   "source": [
    "As stated in our introduction, the seasons play a desicive role in snow depth and air temperature. Therefore we will only look at data from the month of January, which is conviently in the dead of the Canadian winter."
   ]
  },
  {
   "cell_type": "code",
   "execution_count": 56,
   "id": "5a8845d9-bd8a-49ea-9855-7e404063fcda",
   "metadata": {},
   "outputs": [
    {
     "data": {
      "text/html": [
       "<table class=\"dataframe\">\n",
       "<caption>A data.frame: 6 × 4</caption>\n",
       "<thead>\n",
       "\t<tr><th></th><th scope=col>Time</th><th scope=col>Location</th><th scope=col>SnowDepth</th><th scope=col>AirTempCelcius</th></tr>\n",
       "\t<tr><th></th><th scope=col>&lt;dttm&gt;</th><th scope=col>&lt;chr&gt;</th><th scope=col>&lt;dbl&gt;</th><th scope=col>&lt;dbl&gt;</th></tr>\n",
       "</thead>\n",
       "<tbody>\n",
       "\t<tr><th scope=row>1</th><td>2019-01-01 00:00:00</td><td>Callaghan </td><td>155.1</td><td> -3.2</td></tr>\n",
       "\t<tr><th scope=row>2</th><td>2019-01-01 00:00:00</td><td>SilverStar</td><td>152.0</td><td>-11.9</td></tr>\n",
       "\t<tr><th scope=row>3</th><td>2019-01-01 01:00:00</td><td>Callaghan </td><td>154.5</td><td> -4.0</td></tr>\n",
       "\t<tr><th scope=row>4</th><td>2019-01-01 01:00:00</td><td>SilverStar</td><td>152.0</td><td>-12.9</td></tr>\n",
       "\t<tr><th scope=row>5</th><td>2019-01-01 02:00:00</td><td>Callaghan </td><td>154.2</td><td> -3.9</td></tr>\n",
       "\t<tr><th scope=row>6</th><td>2019-01-01 02:00:00</td><td>SilverStar</td><td>152.0</td><td>-12.2</td></tr>\n",
       "</tbody>\n",
       "</table>\n"
      ],
      "text/latex": [
       "A data.frame: 6 × 4\n",
       "\\begin{tabular}{r|llll}\n",
       "  & Time & Location & SnowDepth & AirTempCelcius\\\\\n",
       "  & <dttm> & <chr> & <dbl> & <dbl>\\\\\n",
       "\\hline\n",
       "\t1 & 2019-01-01 00:00:00 & Callaghan  & 155.1 &  -3.2\\\\\n",
       "\t2 & 2019-01-01 00:00:00 & SilverStar & 152.0 & -11.9\\\\\n",
       "\t3 & 2019-01-01 01:00:00 & Callaghan  & 154.5 &  -4.0\\\\\n",
       "\t4 & 2019-01-01 01:00:00 & SilverStar & 152.0 & -12.9\\\\\n",
       "\t5 & 2019-01-01 02:00:00 & Callaghan  & 154.2 &  -3.9\\\\\n",
       "\t6 & 2019-01-01 02:00:00 & SilverStar & 152.0 & -12.2\\\\\n",
       "\\end{tabular}\n"
      ],
      "text/markdown": [
       "\n",
       "A data.frame: 6 × 4\n",
       "\n",
       "| <!--/--> | Time &lt;dttm&gt; | Location &lt;chr&gt; | SnowDepth &lt;dbl&gt; | AirTempCelcius &lt;dbl&gt; |\n",
       "|---|---|---|---|---|\n",
       "| 1 | 2019-01-01 00:00:00 | Callaghan  | 155.1 |  -3.2 |\n",
       "| 2 | 2019-01-01 00:00:00 | SilverStar | 152.0 | -11.9 |\n",
       "| 3 | 2019-01-01 01:00:00 | Callaghan  | 154.5 |  -4.0 |\n",
       "| 4 | 2019-01-01 01:00:00 | SilverStar | 152.0 | -12.9 |\n",
       "| 5 | 2019-01-01 02:00:00 | Callaghan  | 154.2 |  -3.9 |\n",
       "| 6 | 2019-01-01 02:00:00 | SilverStar | 152.0 | -12.2 |\n",
       "\n"
      ],
      "text/plain": [
       "  Time                Location   SnowDepth AirTempCelcius\n",
       "1 2019-01-01 00:00:00 Callaghan  155.1      -3.2         \n",
       "2 2019-01-01 00:00:00 SilverStar 152.0     -11.9         \n",
       "3 2019-01-01 01:00:00 Callaghan  154.5      -4.0         \n",
       "4 2019-01-01 01:00:00 SilverStar 152.0     -12.9         \n",
       "5 2019-01-01 02:00:00 Callaghan  154.2      -3.9         \n",
       "6 2019-01-01 02:00:00 SilverStar 152.0     -12.2         "
      ]
     },
     "metadata": {},
     "output_type": "display_data"
    }
   ],
   "source": [
    "jan_data <- telementary |>\n",
    "    filter(as.numeric(strftime(telementary$Time, \"%m\")) == 1)\n",
    "\n",
    "head(jan_data)"
   ]
  },
  {
   "cell_type": "markdown",
   "id": "db96bf2e-c756-4e3e-924b-547cbc68c0ca",
   "metadata": {},
   "source": [
    "For curiousity sake lets graph the samples of snow depth at Silver Star that we have in 2019."
   ]
  },
  {
   "cell_type": "code",
   "execution_count": 66,
   "id": "dd6f494c-3cd2-42a6-a2cc-d0510a074cb2",
   "metadata": {},
   "outputs": [
    {
     "data": {
      "text/html": [
       "<table class=\"dataframe\">\n",
       "<caption>A data.frame: 5041 × 4</caption>\n",
       "<thead>\n",
       "\t<tr><th scope=col>Time</th><th scope=col>Location</th><th scope=col>SnowDepth</th><th scope=col>AirTempCelcius</th></tr>\n",
       "\t<tr><th scope=col>&lt;date&gt;</th><th scope=col>&lt;chr&gt;</th><th scope=col>&lt;dbl&gt;</th><th scope=col>&lt;dbl&gt;</th></tr>\n",
       "</thead>\n",
       "<tbody>\n",
       "\t<tr><td>NA</td><td>Callaghan </td><td>155.1</td><td> -3.2</td></tr>\n",
       "\t<tr><td>NA</td><td>SilverStar</td><td>152.0</td><td>-11.9</td></tr>\n",
       "\t<tr><td>NA</td><td>Callaghan </td><td>154.5</td><td> -4.0</td></tr>\n",
       "\t<tr><td>NA</td><td>SilverStar</td><td>152.0</td><td>-12.9</td></tr>\n",
       "\t<tr><td>NA</td><td>Callaghan </td><td>154.2</td><td> -3.9</td></tr>\n",
       "\t<tr><td>NA</td><td>SilverStar</td><td>152.0</td><td>-12.2</td></tr>\n",
       "\t<tr><td>NA</td><td>Callaghan </td><td>154.0</td><td> -3.9</td></tr>\n",
       "\t<tr><td>NA</td><td>SilverStar</td><td>152.0</td><td>-11.8</td></tr>\n",
       "\t<tr><td>NA</td><td>Callaghan </td><td>153.7</td><td> -4.3</td></tr>\n",
       "\t<tr><td>NA</td><td>SilverStar</td><td>152.0</td><td>-11.5</td></tr>\n",
       "\t<tr><td>NA</td><td>Callaghan </td><td>153.2</td><td> -4.6</td></tr>\n",
       "\t<tr><td>NA</td><td>SilverStar</td><td>152.0</td><td>-11.3</td></tr>\n",
       "\t<tr><td>NA</td><td>Callaghan </td><td>153.0</td><td> -4.4</td></tr>\n",
       "\t<tr><td>NA</td><td>SilverStar</td><td>152.0</td><td>-11.1</td></tr>\n",
       "\t<tr><td>NA</td><td>Callaghan </td><td>152.5</td><td> -4.5</td></tr>\n",
       "\t<tr><td>NA</td><td>SilverStar</td><td>151.0</td><td>-10.7</td></tr>\n",
       "\t<tr><td>NA</td><td>Callaghan </td><td>152.1</td><td> -5.2</td></tr>\n",
       "\t<tr><td>NA</td><td>SilverStar</td><td>150.0</td><td>-10.7</td></tr>\n",
       "\t<tr><td>NA</td><td>Callaghan </td><td>152.0</td><td> -5.1</td></tr>\n",
       "\t<tr><td>NA</td><td>SilverStar</td><td>151.0</td><td>-10.7</td></tr>\n",
       "\t<tr><td>NA</td><td>Callaghan </td><td>151.7</td><td> -4.8</td></tr>\n",
       "\t<tr><td>NA</td><td>SilverStar</td><td>151.0</td><td>-10.9</td></tr>\n",
       "\t<tr><td>NA</td><td>Callaghan </td><td>151.2</td><td> -4.6</td></tr>\n",
       "\t<tr><td>NA</td><td>SilverStar</td><td>151.0</td><td>-10.9</td></tr>\n",
       "\t<tr><td>NA</td><td>Callaghan </td><td>151.0</td><td> -4.6</td></tr>\n",
       "\t<tr><td>NA</td><td>SilverStar</td><td>151.0</td><td>-10.7</td></tr>\n",
       "\t<tr><td>NA</td><td>Callaghan </td><td>150.7</td><td> -4.4</td></tr>\n",
       "\t<tr><td>NA</td><td>SilverStar</td><td>152.0</td><td>-10.1</td></tr>\n",
       "\t<tr><td>NA</td><td>Callaghan </td><td>150.2</td><td> -4.4</td></tr>\n",
       "\t<tr><td>NA</td><td>SilverStar</td><td>152.0</td><td> -9.4</td></tr>\n",
       "\t<tr><td>⋮</td><td>⋮</td><td>⋮</td><td>⋮</td></tr>\n",
       "\t<tr><td>NA</td><td>Callaghan </td><td>189.0</td><td> -2.9</td></tr>\n",
       "\t<tr><td>NA</td><td>SilverStar</td><td>150.0</td><td> -8.8</td></tr>\n",
       "\t<tr><td>NA</td><td>Callaghan </td><td>191.1</td><td> -3.2</td></tr>\n",
       "\t<tr><td>NA</td><td>SilverStar</td><td>152.0</td><td> -8.6</td></tr>\n",
       "\t<tr><td>NA</td><td>Callaghan </td><td>197.1</td><td> -3.8</td></tr>\n",
       "\t<tr><td>NA</td><td>SilverStar</td><td>152.0</td><td> -8.3</td></tr>\n",
       "\t<tr><td>NA</td><td>Callaghan </td><td>200.6</td><td> -4.1</td></tr>\n",
       "\t<tr><td>NA</td><td>SilverStar</td><td>152.0</td><td> -9.0</td></tr>\n",
       "\t<tr><td>NA</td><td>Callaghan </td><td>201.6</td><td> -4.0</td></tr>\n",
       "\t<tr><td>NA</td><td>SilverStar</td><td>152.0</td><td> -9.8</td></tr>\n",
       "\t<tr><td>NA</td><td>Callaghan </td><td>201.6</td><td> -4.7</td></tr>\n",
       "\t<tr><td>NA</td><td>SilverStar</td><td>152.0</td><td>-10.5</td></tr>\n",
       "\t<tr><td>NA</td><td>Callaghan </td><td>202.4</td><td> -5.0</td></tr>\n",
       "\t<tr><td>NA</td><td>SilverStar</td><td>152.0</td><td>-10.9</td></tr>\n",
       "\t<tr><td>NA</td><td>Callaghan </td><td>202.4</td><td> -4.5</td></tr>\n",
       "\t<tr><td>NA</td><td>SilverStar</td><td>152.0</td><td>-11.3</td></tr>\n",
       "\t<tr><td>NA</td><td>Callaghan </td><td>202.4</td><td> -4.1</td></tr>\n",
       "\t<tr><td>NA</td><td>SilverStar</td><td>152.0</td><td>-11.3</td></tr>\n",
       "\t<tr><td>NA</td><td>Callaghan </td><td>202.4</td><td> -2.8</td></tr>\n",
       "\t<tr><td>NA</td><td>SilverStar</td><td>152.0</td><td>-11.1</td></tr>\n",
       "\t<tr><td>NA</td><td>Callaghan </td><td>202.7</td><td> -2.6</td></tr>\n",
       "\t<tr><td>NA</td><td>SilverStar</td><td>152.0</td><td>-10.4</td></tr>\n",
       "\t<tr><td>NA</td><td>Callaghan </td><td>202.9</td><td> -1.6</td></tr>\n",
       "\t<tr><td>NA</td><td>SilverStar</td><td>151.0</td><td>-10.4</td></tr>\n",
       "\t<tr><td>NA</td><td>Callaghan </td><td>202.9</td><td>  0.9</td></tr>\n",
       "\t<tr><td>NA</td><td>SilverStar</td><td>151.0</td><td>-10.0</td></tr>\n",
       "\t<tr><td>NA</td><td>Callaghan </td><td>202.3</td><td>  0.0</td></tr>\n",
       "\t<tr><td>NA</td><td>SilverStar</td><td>151.0</td><td>-10.6</td></tr>\n",
       "\t<tr><td>NA</td><td>Callaghan </td><td>201.8</td><td> -2.2</td></tr>\n",
       "\t<tr><td>NA</td><td>SilverStar</td><td>151.0</td><td>-10.3</td></tr>\n",
       "</tbody>\n",
       "</table>\n"
      ],
      "text/latex": [
       "A data.frame: 5041 × 4\n",
       "\\begin{tabular}{llll}\n",
       " Time & Location & SnowDepth & AirTempCelcius\\\\\n",
       " <date> & <chr> & <dbl> & <dbl>\\\\\n",
       "\\hline\n",
       "\t NA & Callaghan  & 155.1 &  -3.2\\\\\n",
       "\t NA & SilverStar & 152.0 & -11.9\\\\\n",
       "\t NA & Callaghan  & 154.5 &  -4.0\\\\\n",
       "\t NA & SilverStar & 152.0 & -12.9\\\\\n",
       "\t NA & Callaghan  & 154.2 &  -3.9\\\\\n",
       "\t NA & SilverStar & 152.0 & -12.2\\\\\n",
       "\t NA & Callaghan  & 154.0 &  -3.9\\\\\n",
       "\t NA & SilverStar & 152.0 & -11.8\\\\\n",
       "\t NA & Callaghan  & 153.7 &  -4.3\\\\\n",
       "\t NA & SilverStar & 152.0 & -11.5\\\\\n",
       "\t NA & Callaghan  & 153.2 &  -4.6\\\\\n",
       "\t NA & SilverStar & 152.0 & -11.3\\\\\n",
       "\t NA & Callaghan  & 153.0 &  -4.4\\\\\n",
       "\t NA & SilverStar & 152.0 & -11.1\\\\\n",
       "\t NA & Callaghan  & 152.5 &  -4.5\\\\\n",
       "\t NA & SilverStar & 151.0 & -10.7\\\\\n",
       "\t NA & Callaghan  & 152.1 &  -5.2\\\\\n",
       "\t NA & SilverStar & 150.0 & -10.7\\\\\n",
       "\t NA & Callaghan  & 152.0 &  -5.1\\\\\n",
       "\t NA & SilverStar & 151.0 & -10.7\\\\\n",
       "\t NA & Callaghan  & 151.7 &  -4.8\\\\\n",
       "\t NA & SilverStar & 151.0 & -10.9\\\\\n",
       "\t NA & Callaghan  & 151.2 &  -4.6\\\\\n",
       "\t NA & SilverStar & 151.0 & -10.9\\\\\n",
       "\t NA & Callaghan  & 151.0 &  -4.6\\\\\n",
       "\t NA & SilverStar & 151.0 & -10.7\\\\\n",
       "\t NA & Callaghan  & 150.7 &  -4.4\\\\\n",
       "\t NA & SilverStar & 152.0 & -10.1\\\\\n",
       "\t NA & Callaghan  & 150.2 &  -4.4\\\\\n",
       "\t NA & SilverStar & 152.0 &  -9.4\\\\\n",
       "\t ⋮ & ⋮ & ⋮ & ⋮\\\\\n",
       "\t NA & Callaghan  & 189.0 &  -2.9\\\\\n",
       "\t NA & SilverStar & 150.0 &  -8.8\\\\\n",
       "\t NA & Callaghan  & 191.1 &  -3.2\\\\\n",
       "\t NA & SilverStar & 152.0 &  -8.6\\\\\n",
       "\t NA & Callaghan  & 197.1 &  -3.8\\\\\n",
       "\t NA & SilverStar & 152.0 &  -8.3\\\\\n",
       "\t NA & Callaghan  & 200.6 &  -4.1\\\\\n",
       "\t NA & SilverStar & 152.0 &  -9.0\\\\\n",
       "\t NA & Callaghan  & 201.6 &  -4.0\\\\\n",
       "\t NA & SilverStar & 152.0 &  -9.8\\\\\n",
       "\t NA & Callaghan  & 201.6 &  -4.7\\\\\n",
       "\t NA & SilverStar & 152.0 & -10.5\\\\\n",
       "\t NA & Callaghan  & 202.4 &  -5.0\\\\\n",
       "\t NA & SilverStar & 152.0 & -10.9\\\\\n",
       "\t NA & Callaghan  & 202.4 &  -4.5\\\\\n",
       "\t NA & SilverStar & 152.0 & -11.3\\\\\n",
       "\t NA & Callaghan  & 202.4 &  -4.1\\\\\n",
       "\t NA & SilverStar & 152.0 & -11.3\\\\\n",
       "\t NA & Callaghan  & 202.4 &  -2.8\\\\\n",
       "\t NA & SilverStar & 152.0 & -11.1\\\\\n",
       "\t NA & Callaghan  & 202.7 &  -2.6\\\\\n",
       "\t NA & SilverStar & 152.0 & -10.4\\\\\n",
       "\t NA & Callaghan  & 202.9 &  -1.6\\\\\n",
       "\t NA & SilverStar & 151.0 & -10.4\\\\\n",
       "\t NA & Callaghan  & 202.9 &   0.9\\\\\n",
       "\t NA & SilverStar & 151.0 & -10.0\\\\\n",
       "\t NA & Callaghan  & 202.3 &   0.0\\\\\n",
       "\t NA & SilverStar & 151.0 & -10.6\\\\\n",
       "\t NA & Callaghan  & 201.8 &  -2.2\\\\\n",
       "\t NA & SilverStar & 151.0 & -10.3\\\\\n",
       "\\end{tabular}\n"
      ],
      "text/markdown": [
       "\n",
       "A data.frame: 5041 × 4\n",
       "\n",
       "| Time &lt;date&gt; | Location &lt;chr&gt; | SnowDepth &lt;dbl&gt; | AirTempCelcius &lt;dbl&gt; |\n",
       "|---|---|---|---|\n",
       "| NA | Callaghan  | 155.1 |  -3.2 |\n",
       "| NA | SilverStar | 152.0 | -11.9 |\n",
       "| NA | Callaghan  | 154.5 |  -4.0 |\n",
       "| NA | SilverStar | 152.0 | -12.9 |\n",
       "| NA | Callaghan  | 154.2 |  -3.9 |\n",
       "| NA | SilverStar | 152.0 | -12.2 |\n",
       "| NA | Callaghan  | 154.0 |  -3.9 |\n",
       "| NA | SilverStar | 152.0 | -11.8 |\n",
       "| NA | Callaghan  | 153.7 |  -4.3 |\n",
       "| NA | SilverStar | 152.0 | -11.5 |\n",
       "| NA | Callaghan  | 153.2 |  -4.6 |\n",
       "| NA | SilverStar | 152.0 | -11.3 |\n",
       "| NA | Callaghan  | 153.0 |  -4.4 |\n",
       "| NA | SilverStar | 152.0 | -11.1 |\n",
       "| NA | Callaghan  | 152.5 |  -4.5 |\n",
       "| NA | SilverStar | 151.0 | -10.7 |\n",
       "| NA | Callaghan  | 152.1 |  -5.2 |\n",
       "| NA | SilverStar | 150.0 | -10.7 |\n",
       "| NA | Callaghan  | 152.0 |  -5.1 |\n",
       "| NA | SilverStar | 151.0 | -10.7 |\n",
       "| NA | Callaghan  | 151.7 |  -4.8 |\n",
       "| NA | SilverStar | 151.0 | -10.9 |\n",
       "| NA | Callaghan  | 151.2 |  -4.6 |\n",
       "| NA | SilverStar | 151.0 | -10.9 |\n",
       "| NA | Callaghan  | 151.0 |  -4.6 |\n",
       "| NA | SilverStar | 151.0 | -10.7 |\n",
       "| NA | Callaghan  | 150.7 |  -4.4 |\n",
       "| NA | SilverStar | 152.0 | -10.1 |\n",
       "| NA | Callaghan  | 150.2 |  -4.4 |\n",
       "| NA | SilverStar | 152.0 |  -9.4 |\n",
       "| ⋮ | ⋮ | ⋮ | ⋮ |\n",
       "| NA | Callaghan  | 189.0 |  -2.9 |\n",
       "| NA | SilverStar | 150.0 |  -8.8 |\n",
       "| NA | Callaghan  | 191.1 |  -3.2 |\n",
       "| NA | SilverStar | 152.0 |  -8.6 |\n",
       "| NA | Callaghan  | 197.1 |  -3.8 |\n",
       "| NA | SilverStar | 152.0 |  -8.3 |\n",
       "| NA | Callaghan  | 200.6 |  -4.1 |\n",
       "| NA | SilverStar | 152.0 |  -9.0 |\n",
       "| NA | Callaghan  | 201.6 |  -4.0 |\n",
       "| NA | SilverStar | 152.0 |  -9.8 |\n",
       "| NA | Callaghan  | 201.6 |  -4.7 |\n",
       "| NA | SilverStar | 152.0 | -10.5 |\n",
       "| NA | Callaghan  | 202.4 |  -5.0 |\n",
       "| NA | SilverStar | 152.0 | -10.9 |\n",
       "| NA | Callaghan  | 202.4 |  -4.5 |\n",
       "| NA | SilverStar | 152.0 | -11.3 |\n",
       "| NA | Callaghan  | 202.4 |  -4.1 |\n",
       "| NA | SilverStar | 152.0 | -11.3 |\n",
       "| NA | Callaghan  | 202.4 |  -2.8 |\n",
       "| NA | SilverStar | 152.0 | -11.1 |\n",
       "| NA | Callaghan  | 202.7 |  -2.6 |\n",
       "| NA | SilverStar | 152.0 | -10.4 |\n",
       "| NA | Callaghan  | 202.9 |  -1.6 |\n",
       "| NA | SilverStar | 151.0 | -10.4 |\n",
       "| NA | Callaghan  | 202.9 |   0.9 |\n",
       "| NA | SilverStar | 151.0 | -10.0 |\n",
       "| NA | Callaghan  | 202.3 |   0.0 |\n",
       "| NA | SilverStar | 151.0 | -10.6 |\n",
       "| NA | Callaghan  | 201.8 |  -2.2 |\n",
       "| NA | SilverStar | 151.0 | -10.3 |\n",
       "\n"
      ],
      "text/plain": [
       "     Time Location   SnowDepth AirTempCelcius\n",
       "1    <NA> Callaghan  155.1      -3.2         \n",
       "2    <NA> SilverStar 152.0     -11.9         \n",
       "3    <NA> Callaghan  154.5      -4.0         \n",
       "4    <NA> SilverStar 152.0     -12.9         \n",
       "5    <NA> Callaghan  154.2      -3.9         \n",
       "6    <NA> SilverStar 152.0     -12.2         \n",
       "7    <NA> Callaghan  154.0      -3.9         \n",
       "8    <NA> SilverStar 152.0     -11.8         \n",
       "9    <NA> Callaghan  153.7      -4.3         \n",
       "10   <NA> SilverStar 152.0     -11.5         \n",
       "11   <NA> Callaghan  153.2      -4.6         \n",
       "12   <NA> SilverStar 152.0     -11.3         \n",
       "13   <NA> Callaghan  153.0      -4.4         \n",
       "14   <NA> SilverStar 152.0     -11.1         \n",
       "15   <NA> Callaghan  152.5      -4.5         \n",
       "16   <NA> SilverStar 151.0     -10.7         \n",
       "17   <NA> Callaghan  152.1      -5.2         \n",
       "18   <NA> SilverStar 150.0     -10.7         \n",
       "19   <NA> Callaghan  152.0      -5.1         \n",
       "20   <NA> SilverStar 151.0     -10.7         \n",
       "21   <NA> Callaghan  151.7      -4.8         \n",
       "22   <NA> SilverStar 151.0     -10.9         \n",
       "23   <NA> Callaghan  151.2      -4.6         \n",
       "24   <NA> SilverStar 151.0     -10.9         \n",
       "25   <NA> Callaghan  151.0      -4.6         \n",
       "26   <NA> SilverStar 151.0     -10.7         \n",
       "27   <NA> Callaghan  150.7      -4.4         \n",
       "28   <NA> SilverStar 152.0     -10.1         \n",
       "29   <NA> Callaghan  150.2      -4.4         \n",
       "30   <NA> SilverStar 152.0      -9.4         \n",
       "⋮    ⋮    ⋮          ⋮         ⋮             \n",
       "5012 <NA> Callaghan  189.0      -2.9         \n",
       "5013 <NA> SilverStar 150.0      -8.8         \n",
       "5014 <NA> Callaghan  191.1      -3.2         \n",
       "5015 <NA> SilverStar 152.0      -8.6         \n",
       "5016 <NA> Callaghan  197.1      -3.8         \n",
       "5017 <NA> SilverStar 152.0      -8.3         \n",
       "5018 <NA> Callaghan  200.6      -4.1         \n",
       "5019 <NA> SilverStar 152.0      -9.0         \n",
       "5020 <NA> Callaghan  201.6      -4.0         \n",
       "5021 <NA> SilverStar 152.0      -9.8         \n",
       "5022 <NA> Callaghan  201.6      -4.7         \n",
       "5023 <NA> SilverStar 152.0     -10.5         \n",
       "5024 <NA> Callaghan  202.4      -5.0         \n",
       "5025 <NA> SilverStar 152.0     -10.9         \n",
       "5026 <NA> Callaghan  202.4      -4.5         \n",
       "5027 <NA> SilverStar 152.0     -11.3         \n",
       "5028 <NA> Callaghan  202.4      -4.1         \n",
       "5029 <NA> SilverStar 152.0     -11.3         \n",
       "5030 <NA> Callaghan  202.4      -2.8         \n",
       "5031 <NA> SilverStar 152.0     -11.1         \n",
       "5032 <NA> Callaghan  202.7      -2.6         \n",
       "5033 <NA> SilverStar 152.0     -10.4         \n",
       "5034 <NA> Callaghan  202.9      -1.6         \n",
       "5035 <NA> SilverStar 151.0     -10.4         \n",
       "5036 <NA> Callaghan  202.9       0.9         \n",
       "5037 <NA> SilverStar 151.0     -10.0         \n",
       "5038 <NA> Callaghan  202.3       0.0         \n",
       "5039 <NA> SilverStar 151.0     -10.6         \n",
       "5040 <NA> Callaghan  201.8      -2.2         \n",
       "5041 <NA> SilverStar 151.0     -10.3         "
      ]
     },
     "metadata": {},
     "output_type": "display_data"
    }
   ],
   "source": [
    "jan_data$Time <- lubridate::dmy(as.character(jan_data$Time))\n",
    "\n",
    "\n",
    "\n",
    "winter2019_plot <- telementary |>\n",
    "    select(Time, Location, SnowDepth) |>\n",
    "    filter(Location == \"SilverStar\") |>\n",
    "    ggplot() +\n",
    "    geom_point(aes(x = format(telementary$Time, \"%d\"), y = SnowDepth))\n",
    "\n",
    "# winter2019_plot"
   ]
  },
  {
   "cell_type": "markdown",
   "id": "f761f4bd-44df-4b29-bf19-1db47416c2c3",
   "metadata": {},
   "source": [
    "## Methods: Plan"
   ]
  },
  {
   "cell_type": "markdown",
   "id": "977fabaa-ed44-4ed4-8f6e-8e70045f35e3",
   "metadata": {},
   "source": [
    "asdfasdfasdfasdfsadf"
   ]
  },
  {
   "cell_type": "markdown",
   "id": "256a8269-1c31-44ad-9b61-715b1b765570",
   "metadata": {},
   "source": [
    "##### What do we expect to find?"
   ]
  },
  {
   "cell_type": "markdown",
   "id": "20ba0eab-9ecb-415d-94b2-ffe8cfa1741d",
   "metadata": {},
   "source": [
    "- bullet point filler\n",
    "- hi"
   ]
  },
  {
   "cell_type": "markdown",
   "id": "12ce97ac-a4ac-472f-b787-92b162db7cf4",
   "metadata": {},
   "source": [
    "##### What impact could such findings have?"
   ]
  },
  {
   "cell_type": "markdown",
   "id": "8e383b49-8c74-4e98-88f3-a01947cb46a9",
   "metadata": {},
   "source": [
    "- bullet point filler\n",
    "- hi"
   ]
  },
  {
   "cell_type": "markdown",
   "id": "e0fb29b7-cfe7-48af-82ad-b4738112856a",
   "metadata": {},
   "source": [
    "##### What future questions could this lead to?"
   ]
  },
  {
   "cell_type": "markdown",
   "id": "df988f41-0ec5-4d3a-ae21-0695bd1b6ab7",
   "metadata": {},
   "source": [
    "- bullet point filler\n",
    "- hi"
   ]
  },
  {
   "cell_type": "markdown",
   "id": "67007423-0e7f-4f6a-9504-b26532447e8f",
   "metadata": {},
   "source": [
    "## References"
   ]
  },
  {
   "cell_type": "markdown",
   "id": "fcbfbbbe-4635-4bfd-8d3a-283c6cf6c6ec",
   "metadata": {},
   "source": [
    "Grünewald, T., Bühler, Y., & Lehning, M. (2014). Elevation dependency of mountain snow depth. The Cryosphere, 8(6), 2381–2394. https://doi.org/10.5194/tc-8-2381-2014\n",
    "\n",
    "Kirchner, P. B., Bales, R. C., Molotch, N. P., Flanagan, J., & Guo, Q. (2014). LiDAR measurement of seasonal snow accumulation along an elevation gradient in the southern Sierra Nevada, California. Hydrology and Earth System Sciences, 18(10), 4261–4275. https://doi.org/10.5194/hess-18-4261-2014\n",
    "\n",
    "Ye, H., & Ellison, M. (2003). Changes in transitional snowfall season length in northern Eurasia: TRANSITIONAL SNOWFALL SEASON. Geophysical Research Letters, 30(5), n/a-n/a. https://doi.org/10.1029/2003GL016873\n"
   ]
  },
  {
   "cell_type": "markdown",
   "id": "cfbaa1a2-870f-4228-bcbc-728c59c7a02d",
   "metadata": {},
   "source": [
    "# REMEMBER TO CITE DATA SETS"
   ]
  },
  {
   "cell_type": "code",
   "execution_count": null,
   "id": "305841b0-52b4-4653-922d-85fa8346ff05",
   "metadata": {},
   "outputs": [],
   "source": []
  }
 ],
 "metadata": {
  "kernelspec": {
   "display_name": "R",
   "language": "R",
   "name": "ir"
  },
  "language_info": {
   "codemirror_mode": "r",
   "file_extension": ".r",
   "mimetype": "text/x-r-source",
   "name": "R",
   "pygments_lexer": "r",
   "version": "4.1.3"
  }
 },
 "nbformat": 4,
 "nbformat_minor": 5
}
