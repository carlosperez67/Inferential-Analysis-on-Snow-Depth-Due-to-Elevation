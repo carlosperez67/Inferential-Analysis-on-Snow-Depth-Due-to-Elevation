{
 "cells": [
  {
   "cell_type": "markdown",
   "id": "9d73ba51-6c15-4251-9703-d6c8c222dcef",
   "metadata": {},
   "source": [
    "# Inferential Analysis on Changes in Snow Depth Due to Elevation"
   ]
  },
  {
   "cell_type": "markdown",
   "id": "7d4d0ef7-a5a4-4289-9073-e3efba98d49e",
   "metadata": {},
   "source": [
    "### Introduction"
   ]
  },
  {
   "cell_type": "markdown",
   "id": "c8e5e027-12ae-4e0d-bfad-0eb1eeadb6d0",
   "metadata": {},
   "source": [
    "dsfsdfdsfsd"
   ]
  },
  {
   "cell_type": "code",
   "execution_count": null,
   "id": "37e94b30-e229-4bee-8c4d-b5ef17d9aad7",
   "metadata": {},
   "outputs": [],
   "source": []
  }
 ],
 "metadata": {
  "kernelspec": {
   "display_name": "R",
   "language": "R",
   "name": "ir"
  },
  "language_info": {
   "codemirror_mode": "r",
   "file_extension": ".r",
   "mimetype": "text/x-r-source",
   "name": "R",
   "pygments_lexer": "r",
   "version": "4.1.3"
  }
 },
 "nbformat": 4,
 "nbformat_minor": 5
}
