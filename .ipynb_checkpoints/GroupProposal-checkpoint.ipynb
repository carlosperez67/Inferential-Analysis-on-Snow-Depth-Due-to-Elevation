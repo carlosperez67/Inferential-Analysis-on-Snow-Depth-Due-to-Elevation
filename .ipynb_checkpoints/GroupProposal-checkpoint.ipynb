{
 "cells": [
  {
   "cell_type": "markdown",
   "id": "9d73ba51-6c15-4251-9703-d6c8c222dcef",
   "metadata": {},
   "source": [
    "# Inferential Analysis on Changes in Snow Depth Due to Elevation"
   ]
  },
  {
   "cell_type": "markdown",
   "id": "1a5f3954-38e9-4c2f-a55f-289aa43795b7",
   "metadata": {},
   "source": [
    "## Introduction"
   ]
  },
  {
   "cell_type": "markdown",
   "id": "f93d57dc-61cc-4b1b-9ab2-7c21754bc47a",
   "metadata": {},
   "source": [
    "During the winter season, many people like to go hit the slopes to have some fun, and even more so in BC as the province is home to many world-renowned skiing destinations. When choosing a location, one of the main factors perceived by many that contribute to a greater skiing experience is the elevation of the mountain, as it’s believed that a higher elevation leads to an increase in snow depth which helps improve one’s skiing experience. This relationship between elevation and snow depth is a popular claim by the public, with one study suggesting a positive correlation between elevation and snow depth and another suggesting a similar proposition up to an elevation of 3300 meters (Grünewald et al., 2014; Kirchner et al., 2014). As skiing hobbyists ourselves, we wanted to set out and investigate whether this claim is statistically significant. We decided to focus on locations within BC for relevancy, and settled on comparing the snow depths captured by automated snow weather stations placed in two locations with a distinct difference in elevation: Callaghan, an area just west of Whistler with an elevation of 1017 meters, and Silver Star Mountain, home to the famous Silver Star Ski Resort elevated at 1839 meters. As such, our question will be: does the higher elevation of Silver Star Mountain have a greater snow depth than the lower elevation of Callaghan?\n",
    "\n",
    "Our chosen location and scale parameter will be the mean and standard deviation, respectively. Finding the means of the samples allows us to carry out a one-tailed two-sample t-test which would be relevant for answering the question, while finding the standard deviations will allow us to observe the variability of the observations in each sample.\n",
    "\n",
    "We’ll be using two datasets from the BC government containing samples of snow depth in centimeters, captured by snow weather stations located in Callaghan and Silver Star Mountain as previously stated. The datasets will be filtered down to contain observations only in the month of January 2019 for reduced variability in measurements caused by seasonal changes (Ye & Ellison, 2003)."
   ]
  },
  {
   "cell_type": "markdown",
   "id": "9bf9dfd9-5f01-428a-835f-e9da016ca45b",
   "metadata": {},
   "source": [
    "## Preliminary Results"
   ]
  },
  {
   "cell_type": "markdown",
   "id": "7e22703b-3a1b-44ba-86d0-5fbc551455e0",
   "metadata": {},
   "source": [
    "Loading necessary libraries:"
   ]
  },
  {
   "cell_type": "code",
   "execution_count": null,
   "id": "650362cc-3ddd-4e3e-a34d-39d958451548",
   "metadata": {},
   "outputs": [],
   "source": [
    "library(tidyverse)\n",
    "library(repr)\n",
    "library(digest)\n",
    "library(gridExtra)\n",
    "library(lubridate)\n",
    "library(broom)\n",
    "# Install the package\n",
    "install.packages(\"infer\")\n",
    "# Load the package\n",
    "library(infer)\n",
    "\n",
    "#setting seed to be reproducable\n",
    "set.seed(276)"
   ]
  },
  {
   "cell_type": "markdown",
   "id": "e32b1c8d-b48d-4ade-9884-3f30be974e77",
   "metadata": {},
   "source": [
    "Reading the csv data files from the data folder. Each corresponding csv file from each location is loaded into a different variable."
   ]
  },
  {
   "cell_type": "code",
   "execution_count": null,
   "id": "47af087b-dc28-489a-b30c-3bef91ec1e76",
   "metadata": {},
   "outputs": [],
   "source": [
    "## Unsure if We need Air Temp, this would be for future analysis\n",
    "# air_temp_callaghan <- read.csv(file = 'https://raw.githubusercontent.com/carlosperez67/Stat-201-Project/main/data/Callaghan/AT.csv', col.names = c(\"Time\", \"NULL\", \"AirTempCelcius\"))\n",
    "# air_temp_silverstar <- read.csv(file = 'https://raw.githubusercontent.com/carlosperez67/Stat-201-Project/main/data/SilverStar/AT.csv', col.names = c(\"Time\", \"NULL\", \"AirTempCelcius\"))\n",
    "# head(air_temp_silverstar)\n",
    "\n",
    "# air_temp_callaghan <- air_temp_callaghan %>%\n",
    "#     filter(!is.na(AirTempCelcius)) %>%\n",
    "#     mutate(Time = strptime(Time, tz = \"GMT\", format = \"%Y-%m-%d %H:%M:%S\"),\n",
    "#           AirTempCelcius = as.numeric(AirTempCelcius),\n",
    "#           Location = \"Callaghan\") %>%\n",
    "#     filter(!is.na(AirTempCelcius)) |>\n",
    "#     select(Time, AirTempCelcius, Location)\n",
    "\n",
    "# air_temp_silverstar <- air_temp_silverstar %>%\n",
    "#     filter(!is.na(AirTempCelcius)) %>%\n",
    "#     mutate(Time = strptime(Time, tz = \"GMT\", format = \"%Y-%m-%d %H:%M:%S\"),\n",
    "#           AirTempCelcius = as.numeric(AirTempCelcius),\n",
    "#           Location = \"SilverStar\") %>%\n",
    "#     filter(!is.na(AirTempCelcius)) |>\n",
    "#     select(Time, AirTempCelcius, Location)\n",
    "\n",
    "# head(air_temp_callaghan)"
   ]
  },
  {
   "cell_type": "code",
   "execution_count": null,
   "id": "adb64a54-dc90-4112-896f-355f727eea08",
   "metadata": {},
   "outputs": [],
   "source": [
    "snow_depth_callaghan <- read.csv(file = 'https://raw.githubusercontent.com/carlosperez67/Stat-201-Project/main/data/Callaghan/SD.csv', col.names = c(\"Time\", \"NULL\", \"SnowDepth\"))\n",
    "snow_depth_silverstar <- read.csv(file = 'https://raw.githubusercontent.com/carlosperez67/Stat-201-Project/main/data/SilverStar/SD.csv', col.names = c(\"Time\", \"NULL\", \"SnowDepth\"))\n",
    "\n",
    "head(snow_depth_silverstar)"
   ]
  },
  {
   "cell_type": "markdown",
   "id": "5d7096e8-dc58-4c0b-b01b-a9ced931749a",
   "metadata": {},
   "source": [
    "As you can see above, we must from tidy and wrangle the data. "
   ]
  },
  {
   "cell_type": "code",
   "execution_count": null,
   "id": "3eee4b6e-5389-4a08-b7fb-acee6473de1a",
   "metadata": {},
   "outputs": [],
   "source": [
    "# For Each DataSet we filter away the Null/NA values. Then we convert the charachter dates to R's built in date object type.\n",
    "# Next for the snowdepth we filter away the negative snow depths (impossible/instrument error)\n",
    "snow_depth_silverstar <- snow_depth_silverstar %>%\n",
    "    filter(!is.na(SnowDepth)) %>%\n",
    "    mutate(Time = strptime(Time, tz = \"GMT\", format = \"%Y-%m-%d %H:%M:%S\"),\n",
    "          SnowDepth = as.numeric(SnowDepth),\n",
    "          Location = \"SilverStar\") %>%\n",
    "    filter(SnowDepth >= 0, !is.na(SnowDepth)) |>\n",
    "    select(Time, SnowDepth, Location)\n",
    "\n",
    "snow_depth_callaghan <- snow_depth_callaghan %>%\n",
    "    filter(!is.na(SnowDepth)) %>%\n",
    "    mutate(Time = strptime(Time, tz = \"GMT\", format = \"%Y-%m-%d %H:%M:%S\"),\n",
    "          SnowDepth = as.numeric(SnowDepth),\n",
    "          Location = \"Callaghan\") %>%\n",
    "    filter(SnowDepth >= 0, !is.na(SnowDepth)) |>\n",
    "    select(Time, SnowDepth, Location)\n",
    "\n",
    "head(snow_depth_silverstar)"
   ]
  },
  {
   "cell_type": "markdown",
   "id": "a83b5583-6bbf-4277-a8cd-6bc1845e789b",
   "metadata": {},
   "source": [
    "Next lets join all these data sets together. "
   ]
  },
  {
   "cell_type": "code",
   "execution_count": null,
   "id": "f8e86bce-5092-4307-8789-23131ccf09b3",
   "metadata": {},
   "outputs": [],
   "source": [
    "#Adding All the SnowDepth Data together\n",
    "snow_data <- rbind(snow_depth_silverstar,snow_depth_callaghan)\n",
    "#head(snow_data)\n",
    "#Adding All the AirTemp Data together\n",
    "# temp_data <- rbind(air_temp_silverstar,air_temp_callaghan)\n",
    "#head(temp_data)\n",
    "\n",
    "#Adding all the telementary data together:\n",
    "# telementary <- merge(snow_data, temp_data)\n",
    "# head(telementary)\n",
    "\n"
   ]
  },
  {
   "cell_type": "markdown",
   "id": "1140776e-9991-40ec-b007-5058a5e9c379",
   "metadata": {},
   "source": [
    "As stated in our introduction, the seasons play a desicive role in snow depth and air temperature. Therefore we will only look at data from the month of January, which is conviently in the dead of the Canadian winter."
   ]
  },
  {
   "cell_type": "code",
   "execution_count": null,
   "id": "89d9cd07-f411-4b1a-a3e6-87e2234f4a0e",
   "metadata": {},
   "outputs": [],
   "source": [
    "jan_data <- snow_data |>\n",
    "    filter(as.numeric(strftime(snow_data$Time, \"%m\")) == 1,\n",
    "          as.numeric(strftime(snow_data$Time, \"%Y\")) == 2019,) \n",
    "\n",
    "#Adding another column to easily graph the dates on the x-axis\n",
    "jan_data <- jan_data |>\n",
    "    mutate(Date = as.numeric(strftime(jan_data$Time, \"%d\")))"
   ]
  },
  {
   "cell_type": "markdown",
   "id": "ae807bf2-38d5-4d92-8e2f-9e9039802949",
   "metadata": {
    "tags": []
   },
   "source": [
    "## Sample Distributions"
   ]
  },
  {
   "cell_type": "code",
   "execution_count": null,
   "id": "dfd7436c-5c06-4e37-8c02-4decc685ab12",
   "metadata": {},
   "outputs": [],
   "source": [
    "# Plotting Callaghan sample distribution for the month of january\n",
    "call_sample_dist_plot <-\n",
    "     jan_data %>% \n",
    "    filter(Location == \"Callaghan\") %>% \n",
    "     ggplot() +\n",
    "     geom_histogram(aes(x=SnowDepth), bins = 15, color=\"white\") +\n",
    "     xlab(\"Mean Snow Depth (cm)\") + \n",
    "     theme(text = element_text(size=10)) + \n",
    "     ggtitle(\"Snow Depth Distribution: Callaghan\") \n",
    "\n",
    "silv_sample_dist_plot <-\n",
    "     jan_data %>% \n",
    "    filter(Location == \"SilverStar\") %>% \n",
    "     ggplot() +\n",
    "     geom_histogram(aes(x=SnowDepth), color=\"white\") +\n",
    "     xlab(\"Mean Snow Depth (cm)\") + \n",
    "     theme(text = element_text(size=10)) + \n",
    "     ggtitle(\"Snow Depth Distribution: SilverStar\") \n",
    "\n",
    "#Displaying Both Histograms Side by Side\n",
    "grid.arrange(call_sample_dist_plot, silv_sample_dist_plot, ncol=2)"
   ]
  },
  {
   "cell_type": "markdown",
   "id": "db96bf2e-c756-4e3e-924b-547cbc68c0ca",
   "metadata": {},
   "source": [
    " Lets graph the samples of snow depth at Silver Star that we have in 2019."
   ]
  },
  {
   "cell_type": "code",
   "execution_count": null,
   "id": "dd6f494c-3cd2-42a6-a2cc-d0510a074cb2",
   "metadata": {},
   "outputs": [],
   "source": [
    "silverstar2019_plot <- jan_data |>\n",
    "    select(Time, Location, SnowDepth, Date) |>\n",
    "    filter(Location == \"SilverStar\") |>\n",
    "    ggplot() +\n",
    "    geom_point(aes(x = Date, y = SnowDepth), size = 0.2) +\n",
    "    ggtitle(\"SnowDepth at SilverStar on January 2019\") +\n",
    "    xlab(\"Day of the Month\") + \n",
    "    ylab(\"SnowDepth (cm)\") +\n",
    "    theme(text = element_text(size=20),\n",
    "         axis.line = element_line(colour = \"black\", size = 2)) +\n",
    "    scale_x_continuous(breaks=seq(0,30,2)) +\n",
    "    scale_y_continuous(breaks=seq(0,200,10))\n",
    "silverstar2019_plot"
   ]
  },
  {
   "cell_type": "markdown",
   "id": "2e214e61-6bd4-452b-abe8-8a8ad39d92dc",
   "metadata": {},
   "source": [
    " Lets graph the samples of snow depth at Callaghan that we have in 2019."
   ]
  },
  {
   "cell_type": "code",
   "execution_count": null,
   "id": "499bb4ca-4a8f-4f71-9b3e-63878d5dae90",
   "metadata": {},
   "outputs": [],
   "source": [
    "callaghan2019_plot <- jan_data |>\n",
    "    select(Time, Location, SnowDepth, Date) |>\n",
    "    filter(Location == \"Callaghan\") |>\n",
    "    ggplot() +\n",
    "    geom_point(aes(x = Date, y = SnowDepth), size = 0.2) +\n",
    "    ggtitle(\"SnowDepth at Callaghan on January 2019\") +\n",
    "    xlab(\"Day of the Month\") + \n",
    "    ylab(\"SnowDepth (cm)\") +\n",
    "    theme(text = element_text(size=20),\n",
    "         axis.line = element_line(colour = \"black\", size = 2)) +\n",
    "    scale_x_continuous(breaks=seq(0,30,2)) +\n",
    "    scale_y_continuous(breaks=seq(0,300,10))\n",
    "callaghan2019_plot"
   ]
  },
  {
   "cell_type": "markdown",
   "id": "d7b99499-07ce-4951-bd89-ebde3dc5336a",
   "metadata": {},
   "source": [
    "#### Let's see all the data side by side."
   ]
  },
  {
   "cell_type": "code",
   "execution_count": null,
   "id": "8ad432a6-a1e4-48ae-8f5c-05d7af733f63",
   "metadata": {},
   "outputs": [],
   "source": [
    "jan2019_plot <- jan_data |>\n",
    "    select(Time, Location, SnowDepth, Date) |>\n",
    "    ggplot() +\n",
    "    geom_point(aes(x = Date, y = SnowDepth, color = Location, shape = Location), size = 1) +\n",
    "    ggtitle(\"SnowDepth, January 2019\") +\n",
    "    xlab(\"Day of the Month\") + \n",
    "    ylab(\"SnowDepth (cm)\") +\n",
    "    theme(text = element_text(size=20),\n",
    "         axis.line = element_line(colour = \"black\", size = 2)) +\n",
    "    scale_x_continuous(breaks=seq(0,30,2)) +\n",
    "    scale_y_continuous(breaks=seq(0,300,10)) +\n",
    "    scale_color_brewer(palette = \"Set1\")\n",
    "jan2019_plot"
   ]
  },
  {
   "cell_type": "markdown",
   "id": "60c58ffc-b1b4-499e-9f00-d4f491d21aa0",
   "metadata": {},
   "source": [
    "Visually, it appears that there is a difference between the Callaghan and SilverStar snowdepths.\n",
    "Let's estimate the mean snowdepth (cm) for each location for January 2019 by calculating the mean of our samples."
   ]
  },
  {
   "cell_type": "code",
   "execution_count": null,
   "id": "dd1dd0ef-e135-4dfe-9603-4f4337ca3695",
   "metadata": {},
   "outputs": [],
   "source": [
    "jan_2019_summary <- jan_data |>\n",
    "    group_by(Location) |>\n",
    "    summarize(MeanSnowDepth = mean(SnowDepth))\n",
    "jan_2019_summary"
   ]
  },
  {
   "cell_type": "markdown",
   "id": "c75e9c7f-7ea7-4a19-93c1-1f7b3e5db660",
   "metadata": {},
   "source": [
    "#### Lets add this mean to the plot."
   ]
  },
  {
   "cell_type": "code",
   "execution_count": null,
   "id": "61e74e5b-9140-4d80-aab0-4ec189ac3086",
   "metadata": {},
   "outputs": [],
   "source": [
    "jan_2019_plot_summary <- jan2019_plot +\n",
    "    geom_hline(yintercept = jan_2019_summary$MeanSnowDepth[1],color = \"red\", size= 1) +\n",
    "    geom_hline(yintercept = jan_2019_summary$MeanSnowDepth[2],color = \"blue\", size= 1)\n",
    "\n",
    "jan_2019_plot_summary"
   ]
  },
  {
   "cell_type": "markdown",
   "id": "1fa7c51c-2bf5-482d-9101-d53949d601c1",
   "metadata": {},
   "source": [
    "#### Taking 1000 Bootstrap Samples of Size 100"
   ]
  },
  {
   "cell_type": "code",
   "execution_count": null,
   "id": "a77073c0-2b5c-43d7-b5d9-12ea3f98b225",
   "metadata": {},
   "outputs": [],
   "source": [
    "# bootstrap for snow depth for SilverStar\n",
    "dist_mean_depth_silverstar <- \n",
    "     jan_data %>% \n",
    "     filter(Location == \"SilverStar\") %>%\n",
    "     rep_sample_n(reps = 1000, size = 100, replace = TRUE) %>% \n",
    "     group_by(replicate) %>% \n",
    "     summarize(mean_silverstar = mean(SnowDepth)) %>% \n",
    "     select(mean_silverstar)\n",
    "\n",
    "# bootstrap for snow depth for Callaghan\n",
    "dist_mean_depth_callaghan <- \n",
    "     jan_data %>% \n",
    "     filter(Location == \"Callaghan\") %>%\n",
    "     rep_sample_n(reps = 1000, size = 100, replace = TRUE) %>% \n",
    "     group_by(replicate) %>% \n",
    "     summarize(mean_callaghan = mean(SnowDepth)) %>% \n",
    "     select(mean_callaghan)\n",
    "\n",
    "# Merging the two datasets together\n",
    "bootstrap_dist_snow <- merge(dist_mean_depth_callaghan, dist_mean_depth_silverstar)\n",
    "\n",
    "head(bootstrap_dist_snow)\n"
   ]
  },
  {
   "cell_type": "markdown",
   "id": "a788d5da-b080-4346-816c-c8ca01bd8f24",
   "metadata": {},
   "source": [
    "#### Plotting Sampling Distribution"
   ]
  },
  {
   "cell_type": "code",
   "execution_count": null,
   "id": "6e550796-9723-4926-9166-4c8390e82b07",
   "metadata": {},
   "outputs": [],
   "source": [
    "# Distribtuion of snow depth of SilverStar \n",
    "boot_snow_plot_silverstar <-\n",
    "     bootstrap_dist_snow %>% \n",
    "     ggplot() +\n",
    "     geom_histogram(aes(x = mean_silverstar), bins = 15, color=\"white\") +\n",
    "     xlab(\"Mean Snow Depth (cm)\") + \n",
    "     ylab(\"Number of Observations\") +\n",
    "     theme(text = element_text(size=10)) + \n",
    "     ggtitle(\"Snow Depth Distribution: SilverStar\")\n",
    "\n",
    "# Distribtuion of snow depth of Callaghan\n",
    "boot_snow_plot_callaghan <-\n",
    "     bootstrap_dist_snow %>% \n",
    "     ggplot() +\n",
    "     geom_histogram(aes(x = mean_callaghan), bins = 10, color=\"white\") +\n",
    "     xlab(\"Mean Snow Depth (cm)\") + \n",
    "     ylab(\"Number of Observations\") +\n",
    "     theme(text = element_text(size=10)) + \n",
    "     ggtitle(\"Snow Depth Distribution: Callaghan\") \n",
    "\n",
    "#Displaying Both Histograms Side by Side\n",
    "grid.arrange(boot_snow_plot_callaghan, boot_snow_plot_silverstar, ncol=2)"
   ]
  },
  {
   "cell_type": "markdown",
   "id": "3e5ad9df-f926-45ca-b4d3-4e374ab6a754",
   "metadata": {},
   "source": [
    "## Methods: Plan"
   ]
  },
  {
   "cell_type": "markdown",
   "id": "401f6aec-35c6-430f-b1a6-a9c19677bd6d",
   "metadata": {},
   "source": [
    "From our preliminary results, we see that the mean snow depth for Callaghan is actually greater than Silver Star, so based on that we can expect to find that a higher elevation does not lead to greater snow depth. We’ll state the null hypothesis to be that there’s no difference between the mean snow depths of Silver Star and Callaghan and our alternate hypothesis to be that the difference between Silver Star and Callaghan snow depths is greater than zero (ie. mean snow depth of Silver Star is greater than mean snow depth of Callaghan). \n",
    "\n",
    "We will also calculate the confidence intervals through bootstrapping and asymptotic methods (normal distribution, CLT, t-distribution) to evaluate the accuracy of our estimates. If our expected findings are correct, then we can also expect to not reject the null hypothesis. Based on our expected findings, if higher elevation does not lead to greater snow depth, then more questions could be raised on why this is, such as the geography/location of the mountains playing a larger role in snow depth. Our expected conclusions could also help future companies/wealthy investors evaluate new locations for ski resorts, knowing whether elevation is or isn't a big factor in ensuring sufficient snow depth for a good skiing experience.\n"
   ]
  },
  {
   "cell_type": "markdown",
   "id": "c0dee42d-8f7a-405a-a065-9b95922f52d2",
   "metadata": {},
   "source": [
    "### Confidence Interval from Bootstrapping Using Percentile"
   ]
  },
  {
   "cell_type": "code",
   "execution_count": null,
   "id": "11b3b880-7772-48f6-9d44-08770ee0caf6",
   "metadata": {},
   "outputs": [],
   "source": [
    "# 90% Confidence Interval for SilverStar Using Quantile\n",
    "ci_silverstar <- \n",
    "    dist_mean_depth_silverstar %>% \n",
    "    summarize(ci_lower_silverstar = quantile(mean_silverstar, 0.05),\n",
    "              ci_upper_silverstar = quantile(mean_silverstar, 0.95))\n",
    "\n",
    "# 90% Confidence Interval for Callaghan Using Quantile\n",
    "ci_callaghan <- dist_mean_depth_callaghan %>%\n",
    "    summarize(ci_lower_callaghan = quantile(mean_callaghan, 0.05),\n",
    "              ci_upper_callaghan = quantile(mean_callaghan, 0.95))\n",
    "\n",
    "ci90 <- merge(ci_silverstar, ci_callaghan)\n",
    "ci90"
   ]
  },
  {
   "cell_type": "markdown",
   "id": "090a4011-3a8d-42b8-8cc0-6edfc54d5840",
   "metadata": {},
   "source": [
    "### Confidence Interval from Bootstrapping Using A Theory Based Approach"
   ]
  },
  {
   "cell_type": "code",
   "execution_count": null,
   "id": "4debc396-3f6d-4f64-aebb-a10e4348d683",
   "metadata": {},
   "outputs": [],
   "source": [
    "# se_callaghan <- bootstrap_dist_snow %>% \n",
    "#     summarize(SE_Callaghan = sd(mean_callaghan))\n",
    "# se_silverstar <- bootstrap_dist_snow %>% \n",
    "#     summarize(SE_SilverStar = sd(mean_silverstar))\n",
    "\n",
    "\n",
    "# se_snow <- merge(se_callaghan, se_silverstar)\n",
    "# se_snow\n",
    "\n",
    "# # 90% of values fall within 1.65 standard deviations of the mean so we will apply the CI formula with this in mind\n",
    "# x_bar_callaghan <- jan_2019_summary$MeanSnowDepth[1]\n",
    "# x_bar_silverstar <- jan_2019_summary$MeanSnowDepth[2]\n",
    "\n",
    "# ci_callaghan_se_theory <-  jan_data %>%\n",
    "#     summarize(ci_lower_silverstar = x_bar_silverstar - 1.65 * se_silverstar,\n",
    "#                                     ci_upper_silverstar = x_bar_silverstar + 1.65 * se_silverstar,\n",
    "#                                     ci_lower_callaghan = x_bar_callaghan - 1.65 * se_callaghan,\n",
    "#                                     ci_upper_callaghan = x_bar_callaghan + 1.65 * se_callaghan)\n",
    "\n",
    "# ci_callaghan_se_theory"
   ]
  },
  {
   "cell_type": "code",
   "execution_count": null,
   "id": "5d2ace8f-33e9-4dc0-970f-16cf75bd7f11",
   "metadata": {},
   "outputs": [],
   "source": [
    "head(jan_data)"
   ]
  },
  {
   "cell_type": "markdown",
   "id": "603b5161-41c0-4370-8bc6-0c90bc948fa8",
   "metadata": {},
   "source": [
    "## CLT Based Confidence Interval Calculations"
   ]
  },
  {
   "cell_type": "code",
   "execution_count": null,
   "id": "321abb48-bb8d-4194-aa03-9e3c08aa883c",
   "metadata": {},
   "outputs": [],
   "source": [
    "#Making a Sampling Distribution out of the sample. \n",
    "#(aka taking samples without replacement)\n",
    "\n",
    "snow_samples <- jan_data |>\n",
    "    rep_sample_n(size = 500, reps = 3000, replace = FALSE)\n",
    "\n",
    "snow_samples_dist_callaghan <-\n",
    "    snow_samples %>% \n",
    "    filter(Location == \"Callaghan\") %>%\n",
    "    group_by(replicate) %>% \n",
    "    summarise(Mean_Snow_Depth = mean(SnowDepth), `.groups` = \"drop\") %>% \n",
    "    ggplot() + \n",
    "    geom_histogram(aes(x = Mean_Snow_Depth), color=\"white\") +\n",
    "    theme(text = element_text(size = 10))+\n",
    "    xlab(\"Sample Snow Depth Means\") +\n",
    "    ylab(\"Count\") +\n",
    "    ggtitle(\"Sample Means Of Jan Data: Callaghan\")  \n",
    "\n",
    "snow_samples_dist_silverstar <-\n",
    "    snow_samples %>% \n",
    "    filter(Location == \"SilverStar\") %>%\n",
    "    group_by(replicate) %>% \n",
    "    summarise(Mean_Snow_Depth = mean(SnowDepth), `.groups` = \"drop\") %>% \n",
    "    ggplot() + \n",
    "    geom_histogram(aes(x = Mean_Snow_Depth), color=\"white\") +\n",
    "    theme(text = element_text(size = 10))+\n",
    "    xlab(\"Sample Snow Depth Means\") +\n",
    "    ylab(\"Count\") +\n",
    "    ggtitle(\"Sample Means Of Jan Data: Silver Star\")  \n",
    "\n",
    "\n",
    "\n",
    "grid.arrange(snow_samples_dist_silverstar, snow_samples_dist_callaghan, ncol=2)"
   ]
  },
  {
   "cell_type": "markdown",
   "id": "0b738f80-17f9-4628-acc0-bff050f960d5",
   "metadata": {},
   "source": [
    "Due to CLT, because we have a sufficienlty large sample size (n=300) and the sample size is still much smaller than our original sample (n ~ 25,000), we have estimated the sampling distribution of teh sample mean when the sample size is 300. Our sample size must be this large because the original population distribution is very asymmetric. \n",
    "\n",
    "##### Lets ask ourselves if CLT is applicable:\n",
    "1. Is the size of your sample large enough?\n",
    "\n",
    "Yes it is because we can observe that our populations are a decent approximation of the normal distribution. With values under n = 500 we were observing a slight slighly skewed left tail, however at n = 500 that has largly disappeared.\n",
    "\n",
    "2. Was the sample taken in an independent fashion?\n",
    "\n",
    "Yes because the selections or results from one sample do not impact future samples.\n",
    "\n",
    "3. Is the estimator being used a sum of random components?\n",
    "\n",
    "??\n"
   ]
  },
  {
   "cell_type": "markdown",
   "id": "7f2baae3-8606-44af-8edb-29bf9fed2436",
   "metadata": {},
   "source": [
    "Since we do not know $\\mu$ and $\\sigma$ we can replace them with their estimates $\\bar{x}$ and $s=\\sqrt{\\frac{1}{n-1}\\sum_{i=1}^{n}(X_i-\\bar{X})^2}$"
   ]
  },
  {
   "cell_type": "code",
   "execution_count": null,
   "id": "fd3f172c-a3a5-4588-9a73-070d7a4ac931",
   "metadata": {},
   "outputs": [],
   "source": [
    "# Extracting Only the snow Depths from the samples created earlier\n",
    "snow_samples_callaghan <- snow_samples %>%\n",
    "    filter(Location == \"Callaghan\") %>%\n",
    "    pull(SnowDepth)\n",
    "\n",
    "snow_samples_silverstar <- snow_samples %>%\n",
    "    filter(Location == \"SilverStar\") %>%\n",
    "    pull(SnowDepth)\n",
    "\n",
    "# Calculated Earlier\n",
    "x_bar_callaghan <- jan_2019_summary$MeanSnowDepth[1]\n",
    "x_bar_silverstar <- jan_2019_summary$MeanSnowDepth[2]\n",
    "\n",
    "\n",
    "# Estimating standard error\n",
    "s_callaghan <- sd(snow_samples_callaghan, na.rm = TRUE) / \n",
    "            sqrt(length(snow_samples_callaghan))\n",
    "s_silverstar <- sd(snow_samples_silverstar, na.rm = TRUE) / \n",
    "            sqrt(length(snow_samples_silverstar))\n",
    "\n",
    "mean_snowdepth_callaghan_ci <- \n",
    "    tibble(\n",
    "        lower_ci_callaghan = qnorm(0.05, x_bar_callaghan, s_callaghan),\n",
    "        upper_ci_callaghan = qnorm(0.95, x_bar_callaghan, s_callaghan),\n",
    "        lower_ci_silverstar = qnorm(0.05, x_bar_silverstar, s_silverstar),\n",
    "        upper_ci_silverstar = qnorm(0.95, x_bar_silverstar, s_silverstar))\n",
    "\n",
    "mean_snowdepth_callaghan_ci"
   ]
  },
  {
   "cell_type": "code",
   "execution_count": null,
   "id": "b5eb7241-8e4a-4de5-9909-ddf35ced586e",
   "metadata": {},
   "outputs": [],
   "source": [
    "# However, using CLT with the normal distribution is not exactly the approach that would best approximate the confidence intervals. This is because the standard error that we created is merely an estimate/approximation. We should really be using t-distribution to find confidence intervals. So lets do that!"
   ]
  },
  {
   "cell_type": "markdown",
   "id": "e98f25ce-41f0-439b-be4a-0df02ac144d9",
   "metadata": {},
   "source": [
    "### Two Sample T-Test"
   ]
  },
  {
   "cell_type": "markdown",
   "id": "392c5963-140a-4b0f-b2f8-b03acea7079e",
   "metadata": {},
   "source": [
    "For this hypothesis test we need to ensure that our two samples are independent. This case is true because the snow depth at Callaghan has no effect on the snow depth on SilverStar because they are far enough away that they won't experience the same weather patterns. "
   ]
  },
  {
   "cell_type": "markdown",
   "id": "722949a5-10bc-4ebb-af1c-67dd7944c50d",
   "metadata": {},
   "source": [
    "We need to rely on the CLT because as seen earlier, our population is not normally distributed. This is because the CLT states that teh sampling distribution of the sample average will eventually converge into the normal distribution. \n",
    "\n",
    "If our sample size is large enough the T-Distribution will converge to $t_{n-1}$ under the null hypothesis.\n",
    "\n",
    "Our Hypothesis will be: $$H_0: \\mu_{\\text{SilverStar}} - \\mu_{\\text{Callaghan}} = 0$$ $$H_1: \\mu_{\\text{SilverStar}} - \\mu_{\\text{Callaghan}} \\neq 0$$\n",
    "\n",
    "and we will use this test statistic:\n",
    "$$\n",
    "T = \\frac{\\bar{x}_{\\text{SilverStar}} - \\bar{x}_{\\text{Callaghan}}}{\\sqrt{\\frac{s^2_{\\text{SilverStar}}}{n_1}+\\frac{s^2_{\\text{Callaghan}}}{n_2}}}\n",
    "$$\n",
    "\n",
    "Where $\\bar{x}_{\\text{SilverStar}}$ and $\\bar{x}_{\\text{Callaghan}}$ are the sample means of snow depth for SilverStar and Callaghan mountains, respectively; $s^2_{\\text{SilverStar}}$ and $s^2_{\\text{Callaghan}}$ are the sample variances for the SilverStar and Callaghan mountains, respectively; and $n_1$ and $n_2$ are the sample size for SilverStar and Adelie mountains, respectively. "
   ]
  },
  {
   "cell_type": "code",
   "execution_count": null,
   "id": "6c796f1f-bf7f-4cca-bc60-554823d9228b",
   "metadata": {},
   "outputs": [],
   "source": [
    "head(jan_data)"
   ]
  },
  {
   "cell_type": "code",
   "execution_count": null,
   "id": "1849f43f-81e0-43ec-9991-93c6ce881112",
   "metadata": {},
   "outputs": [],
   "source": [
    "jan_data_summary <- jan_data %>%\n",
    "    group_by(Location) %>%\n",
    "    summarize(sample_mean = mean(SnowDepth),\n",
    "              sample_var = var(SnowDepth),\n",
    "              n = n())\n",
    "\n",
    "\n",
    "\n",
    "jan_data_summary \n",
    "\n",
    "t_stat <- (jan_data_summary$sample_mean[2] - jan_data_summary$sample_mean[1]) / sqrt(jan_data_summary$sample_var[2]/jan_data_summary$n[2] + jan_data_summary$sample_var[1]/jan_data_summary$n[1])\n",
    "t_stat"
   ]
  },
  {
   "cell_type": "code",
   "execution_count": null,
   "id": "12eacec3-c52d-405e-aee3-26f0adeb0d35",
   "metadata": {},
   "outputs": [],
   "source": [
    "t_test <-\n",
    "    tidy(\n",
    "        t.test(x = filter(jan_data, Location == \"SilverStar\")$SnowDepth,\n",
    "               y = filter(jan_data, Location == \"Adelie\")$SnowDepth,\n",
    "               alternative = \"two.sided\"))"
   ]
  },
  {
   "cell_type": "markdown",
   "id": "67007423-0e7f-4f6a-9504-b26532447e8f",
   "metadata": {},
   "source": [
    "## References"
   ]
  },
  {
   "cell_type": "code",
   "execution_count": null,
   "id": "e10f3d78-202d-4925-95bc-77af5daffea5",
   "metadata": {},
   "outputs": [],
   "source": []
  },
  {
   "cell_type": "markdown",
   "id": "fcbfbbbe-4635-4bfd-8d3a-283c6cf6c6ec",
   "metadata": {},
   "source": [
    "Grünewald, T., Bühler, Y., & Lehning, M. (2014). Elevation dependency of mountain snow depth. The Cryosphere, 8(6), 2381–2394. https://doi.org/10.5194/tc-8-2381-2014\n",
    "\n",
    "Kirchner, P. B., Bales, R. C., Molotch, N. P., Flanagan, J., & Guo, Q. (2014). LiDAR measurement of seasonal snow accumulation along an elevation gradient in the southern Sierra Nevada, California. Hydrology and Earth System Sciences, 18(10), 4261–4275. https://doi.org/10.5194/hess-18-4261-2014\n",
    "\n",
    "Ye, H., & Ellison, M. (2003). Changes in transitional snowfall season length in northern Eurasia: TRANSITIONAL SNOWFALL SEASON. Geophysical Research Letters, 30(5), n/a-n/a. https://doi.org/10.1029/2003GL016873\n"
   ]
  },
  {
   "cell_type": "markdown",
   "id": "cfbaa1a2-870f-4228-bcbc-728c59c7a02d",
   "metadata": {},
   "source": [
    "### Data Sources"
   ]
  },
  {
   "cell_type": "markdown",
   "id": "bf567a48-1139-4085-8415-c3ed4822d232",
   "metadata": {},
   "source": [
    "Government of British Columbia. (2022) Callagan Telementary. https://aqrt.nrs.gov.bc.ca/Data/Location/Summary/Location/3A20P/Interval/Latest\n",
    "\n",
    "Government of British Columbia. (2022) Silver Star Mountain  Telementary. https://aqrt.nrs.gov.bc.ca/Data/Location/Summary/Location/2F10P/Interval/Latest"
   ]
  },
  {
   "cell_type": "code",
   "execution_count": null,
   "id": "74e1286d-2478-4bca-901b-c4ddb8d4ab04",
   "metadata": {},
   "outputs": [],
   "source": []
  }
 ],
 "metadata": {
  "kernelspec": {
   "display_name": "R",
   "language": "R",
   "name": "ir"
  },
  "language_info": {
   "codemirror_mode": "r",
   "file_extension": ".r",
   "mimetype": "text/x-r-source",
   "name": "R",
   "pygments_lexer": "r",
   "version": "4.1.3"
  },
  "toc-autonumbering": false
 },
 "nbformat": 4,
 "nbformat_minor": 5
}
