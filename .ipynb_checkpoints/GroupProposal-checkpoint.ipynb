{
 "cells": [
  {
   "cell_type": "markdown",
   "id": "9d73ba51-6c15-4251-9703-d6c8c222dcef",
   "metadata": {},
   "source": [
    "# Inferential Analysis on Changes in Snow Depth Due to Elevation"
   ]
  },
  {
   "cell_type": "markdown",
   "id": "1a5f3954-38e9-4c2f-a55f-289aa43795b7",
   "metadata": {},
   "source": [
    "## Introduction"
   ]
  },
  {
   "cell_type": "markdown",
   "id": "f93d57dc-61cc-4b1b-9ab2-7c21754bc47a",
   "metadata": {},
   "source": [
    "During the winter season, many people like to go hit the slopes to have some fun, and even more so in BC as the province is home to many world-renowned skiing destinations. When choosing a location, one of the main factors perceived by many that contribute to a greater skiing experience is the elevation of the mountain, as it’s believed that a higher elevation leads to an increase in snow depth which helps improve one’s skiing experience. This relationship between elevation and snow depth is a popular claim by the public, with one study suggesting a positive correlation between elevation and snow depth and another suggesting a similar proposition up to an elevation of 3300 meters (Grünewald et al., 2014; Kirchner et al., 2014). As skiing hobbyists ourselves, we wanted to set out and investigate whether this claim is statistically significant. We decided to focus on locations within BC for relevancy, and settled on comparing the snow depths captured by automated snow weather stations placed in two locations with a distinct difference in elevation: Callaghan, an area just west of Whistler with an elevation of 1017 meters, and Silver Star Mountain, home to the famous Silver Star Ski Resort elevated at 1839 meters. As such, our question will be: does the higher elevation of Silver Star Mountain have a greater snow depth than the lower elevation of Callaghan?\n",
    "\n",
    "Our chosen location and scale parameter will be the mean and standard deviation, respectively. Finding the means of the samples allows us to carry out a one-tailed two-sample t-test which would be relevant for answering the question, while finding the standard deviations will allow us to observe the variability of the observations in each sample.\n",
    "\n",
    "We’ll be using two datasets from the BC government containing samples of snow depth in centimeters, captured by snow weather stations located in Callaghan and Silver Star Mountain as previously stated. The datasets will be filtered down to contain observations only in the month of January 2019 for reduced variability in measurements caused by seasonal changes (Ye & Ellison, 2003)."
   ]
  },
  {
   "cell_type": "markdown",
   "id": "9bf9dfd9-5f01-428a-835f-e9da016ca45b",
   "metadata": {},
   "source": [
    "## Preliminary Results"
   ]
  },
  {
   "cell_type": "markdown",
   "id": "7e22703b-3a1b-44ba-86d0-5fbc551455e0",
   "metadata": {},
   "source": [
    "Loading necessary libraries:"
   ]
  },
  {
   "cell_type": "code",
   "execution_count": null,
   "id": "650362cc-3ddd-4e3e-a34d-39d958451548",
   "metadata": {},
   "outputs": [],
   "source": [
    "library(tidyverse)\n",
    "library(repr)\n",
    "library(digest)\n",
    "library(gridExtra)\n",
    "library(lubridate)\n",
    "# Install the package\n",
    "install.packages(\"infer\")\n",
    "# Load the package\n",
    "library(infer)\n",
    "\n",
    "#setting seed to be reproducable\n",
    "set.seed(276)"
   ]
  },
  {
   "cell_type": "markdown",
   "id": "e32b1c8d-b48d-4ade-9884-3f30be974e77",
   "metadata": {},
   "source": [
    "Reading the csv data files from the data folder. Each corresponding csv file from each location is loaded into a different variable."
   ]
  },
  {
   "cell_type": "code",
   "execution_count": null,
   "id": "adb64a54-dc90-4112-896f-355f727eea08",
   "metadata": {},
   "outputs": [],
   "source": [
    "snow_depth_callaghan <- read.csv(file = 'https://raw.githubusercontent.com/carlosperez67/Stat-201-Project/main/data/Callaghan/SD.csv', col.names = c(\"Time\", \"NULL\", \"SnowDepth\"))\n",
    "snow_depth_silverstar <- read.csv(file = 'https://raw.githubusercontent.com/carlosperez67/Stat-201-Project/main/data/SilverStar/SD.csv', col.names = c(\"Time\", \"NULL\", \"SnowDepth\"))\n",
    "air_temp_callaghan <- read.csv(file = 'https://raw.githubusercontent.com/carlosperez67/Stat-201-Project/main/data/Callaghan/AT.csv', col.names = c(\"Time\", \"NULL\", \"AirTempCelcius\"))\n",
    "air_temp_silverstar <- read.csv(file = 'https://raw.githubusercontent.com/carlosperez67/Stat-201-Project/main/data/SilverStar/AT.csv', col.names = c(\"Time\", \"NULL\", \"AirTempCelcius\"))\n",
    "\n",
    "head(air_temp_silverstar)\n",
    "head(snow_depth_silverstar)"
   ]
  },
  {
   "cell_type": "markdown",
   "id": "5d7096e8-dc58-4c0b-b01b-a9ced931749a",
   "metadata": {},
   "source": [
    "As you can see above, we must from tidy and wrangle the data. "
   ]
  },
  {
   "cell_type": "code",
   "execution_count": null,
   "id": "3eee4b6e-5389-4a08-b7fb-acee6473de1a",
   "metadata": {},
   "outputs": [],
   "source": [
    "# For Each DataSet we filter away the Null/NA values. Then we convert the charachter dates to R's built in date object type.\n",
    "# Next for the snowdepth we filter away the negative snow depths (impossible/instrument error)\n",
    "snow_depth_silverstar <- snow_depth_silverstar %>%\n",
    "    filter(!is.na(SnowDepth)) %>%\n",
    "    mutate(Time = strptime(Time, tz = \"GMT\", format = \"%Y-%m-%d %H:%M:%S\"),\n",
    "          SnowDepth = as.numeric(SnowDepth),\n",
    "          Location = \"SilverStar\") %>%\n",
    "    filter(SnowDepth >= 0, !is.na(SnowDepth)) |>\n",
    "    select(Time, SnowDepth, Location)\n",
    "\n",
    "snow_depth_callaghan <- snow_depth_callaghan %>%\n",
    "    filter(!is.na(SnowDepth)) %>%\n",
    "    mutate(Time = strptime(Time, tz = \"GMT\", format = \"%Y-%m-%d %H:%M:%S\"),\n",
    "          SnowDepth = as.numeric(SnowDepth),\n",
    "          Location = \"Callaghan\") %>%\n",
    "    filter(SnowDepth >= 0, !is.na(SnowDepth)) |>\n",
    "    select(Time, SnowDepth, Location)\n",
    "\n",
    "air_temp_callaghan <- air_temp_callaghan %>%\n",
    "    filter(!is.na(AirTempCelcius)) %>%\n",
    "    mutate(Time = strptime(Time, tz = \"GMT\", format = \"%Y-%m-%d %H:%M:%S\"),\n",
    "          AirTempCelcius = as.numeric(AirTempCelcius),\n",
    "          Location = \"Callaghan\") %>%\n",
    "    filter(!is.na(AirTempCelcius)) |>\n",
    "    select(Time, AirTempCelcius, Location)\n",
    "\n",
    "air_temp_silverstar <- air_temp_silverstar %>%\n",
    "    filter(!is.na(AirTempCelcius)) %>%\n",
    "    mutate(Time = strptime(Time, tz = \"GMT\", format = \"%Y-%m-%d %H:%M:%S\"),\n",
    "          AirTempCelcius = as.numeric(AirTempCelcius),\n",
    "          Location = \"SilverStar\") %>%\n",
    "    filter(!is.na(AirTempCelcius)) |>\n",
    "    select(Time, AirTempCelcius, Location)\n",
    "\n",
    "\n",
    "\n",
    "head(snow_depth_silverstar)\n",
    "head(air_temp_callaghan)"
   ]
  },
  {
   "cell_type": "markdown",
   "id": "a83b5583-6bbf-4277-a8cd-6bc1845e789b",
   "metadata": {},
   "source": [
    "Next lets join all these data sets together. "
   ]
  },
  {
   "cell_type": "code",
   "execution_count": null,
   "id": "f8e86bce-5092-4307-8789-23131ccf09b3",
   "metadata": {},
   "outputs": [],
   "source": [
    "#Adding All the SnowDepth Data together\n",
    "snow_data <- rbind(snow_depth_silverstar,snow_depth_callaghan)\n",
    "#head(snow_data)\n",
    "#Adding All the AirTemp Data together\n",
    "temp_data <- rbind(air_temp_silverstar,air_temp_callaghan)\n",
    "#head(temp_data)\n",
    "\n",
    "#Adding all the telementary data together:\n",
    "telementary <- merge(snow_data, temp_data)\n",
    "head(telementary)\n",
    "\n"
   ]
  },
  {
   "cell_type": "markdown",
   "id": "1140776e-9991-40ec-b007-5058a5e9c379",
   "metadata": {},
   "source": [
    "As stated in our introduction, the seasons play a desicive role in snow depth and air temperature. Therefore we will only look at data from the month of January, which is conviently in the dead of the Canadian winter."
   ]
  },
  {
   "cell_type": "code",
   "execution_count": null,
   "id": "89d9cd07-f411-4b1a-a3e6-87e2234f4a0e",
   "metadata": {},
   "outputs": [],
   "source": [
    "jan_data <- telementary |>\n",
    "    filter(as.numeric(strftime(telementary$Time, \"%m\")) == 1,\n",
    "          as.numeric(strftime(telementary$Time, \"%Y\")) == 2019,) \n",
    "\n",
    "#Adding another column to easily graph the dates on the x-axis\n",
    "jan_data <- jan_data |>\n",
    "    mutate(Date = as.numeric(strftime(jan_data$Time, \"%d\")))"
   ]
  },
  {
   "cell_type": "markdown",
   "id": "db96bf2e-c756-4e3e-924b-547cbc68c0ca",
   "metadata": {},
   "source": [
    "## Lets graph the samples of snow depth at Silver Star that we have in 2019."
   ]
  },
  {
   "cell_type": "code",
   "execution_count": null,
   "id": "dd6f494c-3cd2-42a6-a2cc-d0510a074cb2",
   "metadata": {},
   "outputs": [],
   "source": [
    "silverstar2019_plot <- jan_data |>\n",
    "    select(Time, Location, SnowDepth, Date) |>\n",
    "    filter(Location == \"SilverStar\") |>\n",
    "    ggplot() +\n",
    "    geom_point(aes(x = Date, y = SnowDepth), size = 0.2) +\n",
    "    ggtitle(\"SnowDepth at SilverStar on January 2019\") +\n",
    "    xlab(\"Day of the Month\") + \n",
    "    ylab(\"SnowDepth (cm)\") +\n",
    "    theme(text = element_text(size=20),\n",
    "         axis.line = element_line(colour = \"black\", size = 2)) +\n",
    "    scale_x_continuous(breaks=seq(0,30,2)) +\n",
    "    scale_y_continuous(breaks=seq(0,200,10))\n",
    "silverstar2019_plot"
   ]
  },
  {
   "cell_type": "markdown",
   "id": "2e214e61-6bd4-452b-abe8-8a8ad39d92dc",
   "metadata": {},
   "source": [
    "## Lets graph the samples of snow depth at Callaghan that we have in 2019."
   ]
  },
  {
   "cell_type": "code",
   "execution_count": null,
   "id": "499bb4ca-4a8f-4f71-9b3e-63878d5dae90",
   "metadata": {},
   "outputs": [],
   "source": [
    "callaghan2019_plot <- jan_data |>\n",
    "    select(Time, Location, SnowDepth, Date) |>\n",
    "    filter(Location == \"Callaghan\") |>\n",
    "    ggplot() +\n",
    "    geom_point(aes(x = Date, y = SnowDepth), size = 0.2) +\n",
    "    ggtitle(\"SnowDepth at Callaghan on January 2019\") +\n",
    "    xlab(\"Day of the Month\") + \n",
    "    ylab(\"SnowDepth (cm)\") +\n",
    "    theme(text = element_text(size=20),\n",
    "         axis.line = element_line(colour = \"black\", size = 2)) +\n",
    "    scale_x_continuous(breaks=seq(0,30,2)) +\n",
    "    scale_y_continuous(breaks=seq(0,300,10))\n",
    "callaghan2019_plot"
   ]
  },
  {
   "cell_type": "markdown",
   "id": "d7b99499-07ce-4951-bd89-ebde3dc5336a",
   "metadata": {},
   "source": [
    "## Let's see all the data side by side."
   ]
  },
  {
   "cell_type": "code",
   "execution_count": null,
   "id": "8ad432a6-a1e4-48ae-8f5c-05d7af733f63",
   "metadata": {},
   "outputs": [],
   "source": [
    "jan2019_plot <- jan_data |>\n",
    "    select(Time, Location, SnowDepth, Date) |>\n",
    "    ggplot() +\n",
    "    geom_point(aes(x = Date, y = SnowDepth, color = Location, shape = Location), size = 1) +\n",
    "    ggtitle(\"SnowDepth, January 2019\") +\n",
    "    xlab(\"Day of the Month\") + \n",
    "    ylab(\"SnowDepth (cm)\") +\n",
    "    theme(text = element_text(size=20),\n",
    "         axis.line = element_line(colour = \"black\", size = 2)) +\n",
    "    scale_x_continuous(breaks=seq(0,30,2)) +\n",
    "    scale_y_continuous(breaks=seq(0,300,10)) +\n",
    "    scale_color_brewer(palette = \"Set1\")\n",
    "jan2019_plot"
   ]
  },
  {
   "cell_type": "markdown",
   "id": "60c58ffc-b1b4-499e-9f00-d4f491d21aa0",
   "metadata": {},
   "source": [
    " Wow! Not what we expected. Seems like elevation is a sufficient predictor for snow depth. Can't say for sure until we do the hypothesis test. (stay tuned).\n",
    "#### Let's try and estimate the mean snowdepth (cm) for each location for January 2019."
   ]
  },
  {
   "cell_type": "code",
   "execution_count": null,
   "id": "dd1dd0ef-e135-4dfe-9603-4f4337ca3695",
   "metadata": {},
   "outputs": [],
   "source": [
    "jan_2019_summary <- jan_data |>\n",
    "    group_by(Location) |>\n",
    "    summarize(MeanSnowDepth = mean(SnowDepth))\n",
    "jan_2019_summary"
   ]
  },
  {
   "cell_type": "markdown",
   "id": "c75e9c7f-7ea7-4a19-93c1-1f7b3e5db660",
   "metadata": {},
   "source": [
    "## Lets add this mean to the plot."
   ]
  },
  {
   "cell_type": "code",
   "execution_count": null,
   "id": "61e74e5b-9140-4d80-aab0-4ec189ac3086",
   "metadata": {},
   "outputs": [],
   "source": [
    "jan_2019_plot_summary <- jan2019_plot +\n",
    "    geom_hline(yintercept = jan_2019_summary$MeanSnowDepth[1],color = \"red\", size= 1) +\n",
    "    geom_hline(yintercept = jan_2019_summary$MeanSnowDepth[2],color = \"blue\", size= 1)\n",
    "\n",
    "jan_2019_plot_summary"
   ]
  },
  {
   "cell_type": "markdown",
   "id": "f761f4bd-44df-4b29-bf19-1db47416c2c3",
   "metadata": {},
   "source": [
    "## Methods: Plan"
   ]
  },
  {
   "cell_type": "markdown",
   "id": "977fabaa-ed44-4ed4-8f6e-8e70045f35e3",
   "metadata": {},
   "source": [
    "From our preliminary results, we see that the mean snow depth for Callaghan is actually greater than Silver Star, so based on that we can expect to find that a higher elevation does not lead to greater snow depth. We’ll state the null hypothesis to be that there’s no difference between the mean snow depths of Silver Star and Callaghan and our alternate hypothesis to be that the difference between Silver Star and Callaghan snow depths is greater than zero (ie. mean snow depth of Silver Star is greater than mean snow depth of Callaghan). \n",
    "\n",
    "We will also calculate the confidence intervals through bootstrapping and asymptotic methods (normal distribution, CLT, t-distribution) to evaluate the accuracy of our estimates. If our expected findings are correct, then we can also expect to not reject the null hypothesis. Based on our expected findings, if higher elevation does not lead to greater snow depth, then more questions could be raised on why this is, such as the geography/location of the mountains playing a larger role in snow depth. Our expected conclusions could also help future companies/wealthy investors evaluate new locations for ski resorts, knowing whether elevation is or isn't a big factor in ensuring sufficient snow depth for a good skiing experience.\n"
   ]
  },
  {
   "cell_type": "code",
   "execution_count": null,
   "id": "a77073c0-2b5c-43d7-b5d9-12ea3f98b225",
   "metadata": {},
   "outputs": [],
   "source": [
    "# bootstrap for snow depth for SilverStart\n",
    "dist_mean_depth_silverstart <- \n",
    "     jan_data %>% \n",
    "     filter(Location == \"SilverStar\") %>%\n",
    "     rep_sample_n(reps = 100, size = 1000, replace = TRUE) %>% \n",
    "     group_by(replicate) %>% \n",
    "     summarize(mean_silverstart = mean(SnowDepth)) %>% \n",
    "     select(mean_silverstart)\n",
    "\n",
    "head(dist_mean_depth_silverstart)\n",
    "\n",
    "# bootstrap for snow depth for Callaghan\n",
    "dist_mean_depth_callaghan <- \n",
    "     jan_data %>% \n",
    "     filter(Location == \"Callaghan\") %>%\n",
    "     rep_sample_n(reps = 100, size = 1000, replace = TRUE) %>% \n",
    "     group_by(replicate) %>% \n",
    "     summarize(mean_callaghan = mean(SnowDepth)) %>% \n",
    "     select(mean_callaghan)\n",
    "\n",
    "head(dist_mean_depth_Callaghan)"
   ]
  },
  {
   "cell_type": "code",
   "execution_count": null,
   "id": "b78059b9-04e7-462d-9b53-d854bf83b8d4",
   "metadata": {},
   "outputs": [],
   "source": [
    "# Distribtuion of snow depth of SilverStart\n",
    "\n",
    "boot_snow_plot_silverstart <-\n",
    "     dist_mean_depth_silverstart %>% \n",
    "     ggplot() +\n",
    "     geom_histogram(aes(mean_silverstart), bins = 15, color=\"white\") +\n",
    "     xlab(\"Mean Snow Depth (cm)\") + \n",
    "     theme(text = element_text(size=25)) + \n",
    "     ggtitle(\"Distribution of Snow Depth for SilverStart\") \n",
    "\n",
    "boot_snow_plot_silverstart"
   ]
  },
  {
   "cell_type": "code",
   "execution_count": null,
   "id": "6e550796-9723-4926-9166-4c8390e82b07",
   "metadata": {},
   "outputs": [],
   "source": [
    "# Distribtuion of snow depth of Callaghan\n",
    "\n",
    "boot_snow_plot_callaghan <-\n",
    "     dist_mean_depth_callaghan %>% \n",
    "     ggplot() +\n",
    "     geom_histogram(aes(mean_callaghan), bins = 10, color=\"white\") +\n",
    "     xlab(\"Mean Snow Depth (cm)\") + \n",
    "     theme(text = element_text(size=25)) + \n",
    "     ggtitle(\"Distribution of Snow Depth for Callaghan\") \n",
    "\n",
    "boot_snow_plot_callaghan"
   ]
  },
  {
   "cell_type": "code",
   "execution_count": null,
   "id": "11b3b880-7772-48f6-9d44-08770ee0caf6",
   "metadata": {},
   "outputs": [],
   "source": [
    "# ci for SilverStart\n",
    "\n",
    "ci_silverstart <- \n",
    "    dist_mean_depth_silverstart %>% \n",
    "    summarize(ci_lower = quantile(mean_silverstart, 0.05),\n",
    "              ci_upper = quantile(mean_silverstart, 0.95))\n",
    "head(ci_silverstart)\n",
    "\n",
    "# ci for Callaghan\n",
    "\n",
    "ci_callaghan <- dist_mean_depth_callaghan %>%\n",
    "    summarize(ci_lower = quantile(mean_callaghan, 0.05),\n",
    "              ci_upper = quantile(mean_callaghan, 0.95))\n",
    "head(ci_callaghan)   "
   ]
  },
  {
   "cell_type": "code",
   "execution_count": null,
   "id": "e837793c-00c3-486f-889f-71cb683aa3f7",
   "metadata": {},
   "outputs": [],
   "source": [
    "head(jan_data)"
   ]
  },
  {
   "cell_type": "markdown",
   "id": "eb23e043-fd21-4b8a-8669-d73f61bb8165",
   "metadata": {},
   "source": [
    "## Sample Distributions"
   ]
  },
  {
   "cell_type": "code",
   "execution_count": null,
   "id": "dfd7436c-5c06-4e37-8c02-4decc685ab12",
   "metadata": {},
   "outputs": [],
   "source": [
    "# PLotting Callaghan sample distribution for the month of january\n",
    "call_sample_dist_plot <-\n",
    "     jan_data %>% \n",
    "    filter(Location == \"Callaghan\") %>% \n",
    "     ggplot() +\n",
    "     geom_histogram(aes(x=SnowDepth), bins = 15, color=\"white\") +\n",
    "     xlab(\"Mean Snow Depth (cm)\") + \n",
    "     theme(text = element_text(size=19)) + \n",
    "     ggtitle(\"Callaghan Snow Depth Sample Distribution\") \n",
    "call_sample_dist_plot\n",
    "\n",
    "silv_sample_dist_plot <-\n",
    "     jan_data %>% \n",
    "    filter(Location == \"SilverStar\") %>% \n",
    "     ggplot() +\n",
    "     geom_histogram(aes(x=SnowDepth), color=\"white\") +\n",
    "     xlab(\"Mean Snow Depth (cm)\") + \n",
    "     theme(text = element_text(size=19)) + \n",
    "     ggtitle(\"SilverStar Snow Depth Sample Distribution\") \n",
    "silv_sample_dist_plot"
   ]
  },
  {
   "cell_type": "markdown",
   "id": "67007423-0e7f-4f6a-9504-b26532447e8f",
   "metadata": {},
   "source": [
    "## References"
   ]
  },
  {
   "cell_type": "markdown",
   "id": "fcbfbbbe-4635-4bfd-8d3a-283c6cf6c6ec",
   "metadata": {},
   "source": [
    "Grünewald, T., Bühler, Y., & Lehning, M. (2014). Elevation dependency of mountain snow depth. The Cryosphere, 8(6), 2381–2394. https://doi.org/10.5194/tc-8-2381-2014\n",
    "\n",
    "Kirchner, P. B., Bales, R. C., Molotch, N. P., Flanagan, J., & Guo, Q. (2014). LiDAR measurement of seasonal snow accumulation along an elevation gradient in the southern Sierra Nevada, California. Hydrology and Earth System Sciences, 18(10), 4261–4275. https://doi.org/10.5194/hess-18-4261-2014\n",
    "\n",
    "Ye, H., & Ellison, M. (2003). Changes in transitional snowfall season length in northern Eurasia: TRANSITIONAL SNOWFALL SEASON. Geophysical Research Letters, 30(5), n/a-n/a. https://doi.org/10.1029/2003GL016873\n"
   ]
  },
  {
   "cell_type": "markdown",
   "id": "cfbaa1a2-870f-4228-bcbc-728c59c7a02d",
   "metadata": {},
   "source": [
    "### Data Sources"
   ]
  },
  {
   "cell_type": "markdown",
   "id": "bf567a48-1139-4085-8415-c3ed4822d232",
   "metadata": {},
   "source": [
    "Government of British Columbia. (2022) Callagan Telementary. https://aqrt.nrs.gov.bc.ca/Data/Location/Summary/Location/3A20P/Interval/Latest\n",
    "\n",
    "Government of British Columbia. (2022) Silver Star Mountain  Telementary. https://aqrt.nrs.gov.bc.ca/Data/Location/Summary/Location/2F10P/Interval/Latest"
   ]
  },
  {
   "cell_type": "code",
   "execution_count": null,
   "id": "74e1286d-2478-4bca-901b-c4ddb8d4ab04",
   "metadata": {},
   "outputs": [],
   "source": []
  }
 ],
 "metadata": {
  "kernelspec": {
   "display_name": "R",
   "language": "R",
   "name": "ir"
  },
  "language_info": {
   "codemirror_mode": "r",
   "file_extension": ".r",
   "mimetype": "text/x-r-source",
   "name": "R",
   "pygments_lexer": "r",
   "version": "4.1.3"
  },
  "toc-autonumbering": false
 },
 "nbformat": 4,
 "nbformat_minor": 5
}
