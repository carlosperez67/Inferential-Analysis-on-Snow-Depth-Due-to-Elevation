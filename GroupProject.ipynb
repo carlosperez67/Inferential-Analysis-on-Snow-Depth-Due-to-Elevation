{
 "cells": [
  {
   "cell_type": "markdown",
   "id": "9d73ba51-6c15-4251-9703-d6c8c222dcef",
   "metadata": {},
   "source": [
    "# Inferential Analysis on Changes in Snow Depth Due to Elevation"
   ]
  },
  {
   "cell_type": "markdown",
   "id": "1a5f3954-38e9-4c2f-a55f-289aa43795b7",
   "metadata": {},
   "source": [
    "## Introduction"
   ]
  },
  {
   "cell_type": "markdown",
   "id": "f93d57dc-61cc-4b1b-9ab2-7c21754bc47a",
   "metadata": {},
   "source": [
    "During the winter season, many people like to go hit the slopes to have some fun, and even more so in BC as the province is home to many world-renowned skiing destinations. When choosing a location, one of the main factors perceived by many that contribute to a greater skiing experience is the elevation of the mountain, as it’s believed that a higher elevation leads to an increase in snow depth which helps improve one’s skiing experience. This relationship between elevation and snow depth is a popular claim by the public, with one study suggesting a positive correlation between elevation and snow depth and another suggesting a similar proposition up to an elevation of 3300 meters (Grünewald et al., 2014; Kirchner et al., 2014). As skiing hobbyists ourselves, we wanted to set out and investigate whether this claim is statistically significant. We decided to focus on locations within BC for relevancy, and settled on comparing the snow depths captured by automated snow weather stations placed in two locations with a distinct difference in elevation: Callaghan, an area just west of Whistler with an elevation of 1017 meters, and Silver Star Mountain, home to the famous Silver Star Ski Resort elevated at 1839 meters. As such, our question will be: does the higher elevation of Silver Star Mountain have a greater snow depth than the lower elevation of Callaghan?\n",
    "\n",
    "Our chosen location and scale parameter will be the mean and variance/standard deviation, respectively. Finding the means of the samples allows us to carry out a one-tailed two-sample t-test (difference in means between independent samples) which would be relevant for answering the question, while finding the standard deviations/variances will allow us to observe the variability of the observations in each sample.\n",
    "\n",
    "We’ll be using two datasets from the BC government containing samples of snow depth in centimetres, captured by snow weather stations located in Callaghan and Silver Star Mountain as previously stated. The datasets will be filtered down to contain observations only in the month of January 2019 for reduced variability in measurements caused by seasonal changes (Ye & Ellison, 2003). The sample sizes for each of the two samples will be determined after data wrangling, and will be clearly stated in our preliminary results section."
   ]
  },
  {
   "cell_type": "markdown",
   "id": "9bf9dfd9-5f01-428a-835f-e9da016ca45b",
   "metadata": {},
   "source": [
    "## Preliminary Results"
   ]
  },
  {
   "cell_type": "markdown",
   "id": "7e22703b-3a1b-44ba-86d0-5fbc551455e0",
   "metadata": {},
   "source": [
    "Loading necessary libraries:"
   ]
  },
  {
   "cell_type": "code",
   "execution_count": 1,
   "id": "650362cc-3ddd-4e3e-a34d-39d958451548",
   "metadata": {},
   "outputs": [
    {
     "name": "stderr",
     "output_type": "stream",
     "text": [
      "Warning message in system(\"timedatectl\", intern = TRUE):\n",
      "“running command 'timedatectl' had status 1”\n",
      "── \u001b[1mAttaching packages\u001b[22m ─────────────────────────────────────── tidyverse 1.3.2 ──\n",
      "\u001b[32m✔\u001b[39m \u001b[34mggplot2\u001b[39m 3.3.6     \u001b[32m✔\u001b[39m \u001b[34mpurrr  \u001b[39m 0.3.4\n",
      "\u001b[32m✔\u001b[39m \u001b[34mtibble \u001b[39m 3.1.8     \u001b[32m✔\u001b[39m \u001b[34mdplyr  \u001b[39m 1.0.9\n",
      "\u001b[32m✔\u001b[39m \u001b[34mtidyr  \u001b[39m 1.2.0     \u001b[32m✔\u001b[39m \u001b[34mstringr\u001b[39m 1.4.1\n",
      "\u001b[32m✔\u001b[39m \u001b[34mreadr  \u001b[39m 2.1.2     \u001b[32m✔\u001b[39m \u001b[34mforcats\u001b[39m 0.5.2\n",
      "── \u001b[1mConflicts\u001b[22m ────────────────────────────────────────── tidyverse_conflicts() ──\n",
      "\u001b[31m✖\u001b[39m \u001b[34mdplyr\u001b[39m::\u001b[32mfilter()\u001b[39m masks \u001b[34mstats\u001b[39m::filter()\n",
      "\u001b[31m✖\u001b[39m \u001b[34mdplyr\u001b[39m::\u001b[32mlag()\u001b[39m    masks \u001b[34mstats\u001b[39m::lag()\n",
      "\n",
      "Attaching package: ‘gridExtra’\n",
      "\n",
      "\n",
      "The following object is masked from ‘package:dplyr’:\n",
      "\n",
      "    combine\n",
      "\n",
      "\n",
      "Loading required package: timechange\n",
      "\n",
      "\n",
      "Attaching package: ‘lubridate’\n",
      "\n",
      "\n",
      "The following objects are masked from ‘package:base’:\n",
      "\n",
      "    date, intersect, setdiff, union\n",
      "\n",
      "\n",
      "Installing package into ‘/home/jupyter/R/x86_64-pc-linux-gnu-library/4.1’\n",
      "(as ‘lib’ is unspecified)\n",
      "\n"
     ]
    }
   ],
   "source": [
    "library(tidyverse)\n",
    "library(repr)\n",
    "library(digest)\n",
    "library(gridExtra)\n",
    "library(lubridate)\n",
    "library(broom)\n",
    "# Install the package\n",
    "install.packages(\"infer\")\n",
    "# Load the package\n",
    "library(infer)\n",
    "\n",
    "#setting seed to be reproducable\n",
    "set.seed(276)"
   ]
  },
  {
   "cell_type": "markdown",
   "id": "e32b1c8d-b48d-4ade-9884-3f30be974e77",
   "metadata": {},
   "source": [
    "Reading the csv data files from the data folder. Each corresponding csv file from each location is loaded into a different variable."
   ]
  },
  {
   "cell_type": "code",
   "execution_count": 2,
   "id": "adb64a54-dc90-4112-896f-355f727eea08",
   "metadata": {},
   "outputs": [
    {
     "data": {
      "text/html": [
       "<table class=\"dataframe\">\n",
       "<caption>A data.frame: 6 × 3</caption>\n",
       "<thead>\n",
       "\t<tr><th></th><th scope=col>Time</th><th scope=col>NULL.</th><th scope=col>SnowDepth</th></tr>\n",
       "\t<tr><th></th><th scope=col>&lt;chr&gt;</th><th scope=col>&lt;chr&gt;</th><th scope=col>&lt;chr&gt;</th></tr>\n",
       "</thead>\n",
       "<tbody>\n",
       "\t<tr><th scope=row>1</th><td>GRADEDESCRIPTIONS-3=GAP, -2=UNUSABLE, -1=UNSPECIFIED, 0=UNDEF, 11=POOR, 21=ESTIMATED, 25=BEST PRACTICE, 31=GOOD, 41=VERYGOOD, 51=EXCELLENT, APPROVALDESCRIPTIONS 800=WORKING, 900=IN REVIEW, 1200=APPROVED</td><td>                     </td><td>          </td></tr>\n",
       "\t<tr><th scope=row>2</th><td>Timestamp (UTC)                                                                                                                                                                                           </td><td>Event Timestamp (UTC)</td><td>Value (cm)</td></tr>\n",
       "\t<tr><th scope=row>3</th><td>2015-08-13 22:00:00                                                                                                                                                                                       </td><td>                     </td><td>0         </td></tr>\n",
       "\t<tr><th scope=row>4</th><td>2015-08-13 23:00:00                                                                                                                                                                                       </td><td>                     </td><td>5         </td></tr>\n",
       "\t<tr><th scope=row>5</th><td>2015-08-14 00:00:00                                                                                                                                                                                       </td><td>                     </td><td>-1        </td></tr>\n",
       "\t<tr><th scope=row>6</th><td>2015-08-14 01:00:00                                                                                                                                                                                       </td><td>                     </td><td>-4        </td></tr>\n",
       "</tbody>\n",
       "</table>\n"
      ],
      "text/latex": [
       "A data.frame: 6 × 3\n",
       "\\begin{tabular}{r|lll}\n",
       "  & Time & NULL. & SnowDepth\\\\\n",
       "  & <chr> & <chr> & <chr>\\\\\n",
       "\\hline\n",
       "\t1 & GRADEDESCRIPTIONS-3=GAP, -2=UNUSABLE, -1=UNSPECIFIED, 0=UNDEF, 11=POOR, 21=ESTIMATED, 25=BEST PRACTICE, 31=GOOD, 41=VERYGOOD, 51=EXCELLENT, APPROVALDESCRIPTIONS 800=WORKING, 900=IN REVIEW, 1200=APPROVED &                       &           \\\\\n",
       "\t2 & Timestamp (UTC)                                                                                                                                                                                            & Event Timestamp (UTC) & Value (cm)\\\\\n",
       "\t3 & 2015-08-13 22:00:00                                                                                                                                                                                        &                       & 0         \\\\\n",
       "\t4 & 2015-08-13 23:00:00                                                                                                                                                                                        &                       & 5         \\\\\n",
       "\t5 & 2015-08-14 00:00:00                                                                                                                                                                                        &                       & -1        \\\\\n",
       "\t6 & 2015-08-14 01:00:00                                                                                                                                                                                        &                       & -4        \\\\\n",
       "\\end{tabular}\n"
      ],
      "text/markdown": [
       "\n",
       "A data.frame: 6 × 3\n",
       "\n",
       "| <!--/--> | Time &lt;chr&gt; | NULL. &lt;chr&gt; | SnowDepth &lt;chr&gt; |\n",
       "|---|---|---|---|\n",
       "| 1 | GRADEDESCRIPTIONS-3=GAP, -2=UNUSABLE, -1=UNSPECIFIED, 0=UNDEF, 11=POOR, 21=ESTIMATED, 25=BEST PRACTICE, 31=GOOD, 41=VERYGOOD, 51=EXCELLENT, APPROVALDESCRIPTIONS 800=WORKING, 900=IN REVIEW, 1200=APPROVED | <!----> | <!----> |\n",
       "| 2 | Timestamp (UTC)                                                                                                                                                                                            | Event Timestamp (UTC) | Value (cm) |\n",
       "| 3 | 2015-08-13 22:00:00                                                                                                                                                                                        | <!----> | 0          |\n",
       "| 4 | 2015-08-13 23:00:00                                                                                                                                                                                        | <!----> | 5          |\n",
       "| 5 | 2015-08-14 00:00:00                                                                                                                                                                                        | <!----> | -1         |\n",
       "| 6 | 2015-08-14 01:00:00                                                                                                                                                                                        | <!----> | -4         |\n",
       "\n"
      ],
      "text/plain": [
       "  Time                                                                                                                                                                                                      \n",
       "1 GRADEDESCRIPTIONS-3=GAP, -2=UNUSABLE, -1=UNSPECIFIED, 0=UNDEF, 11=POOR, 21=ESTIMATED, 25=BEST PRACTICE, 31=GOOD, 41=VERYGOOD, 51=EXCELLENT, APPROVALDESCRIPTIONS 800=WORKING, 900=IN REVIEW, 1200=APPROVED\n",
       "2 Timestamp (UTC)                                                                                                                                                                                           \n",
       "3 2015-08-13 22:00:00                                                                                                                                                                                       \n",
       "4 2015-08-13 23:00:00                                                                                                                                                                                       \n",
       "5 2015-08-14 00:00:00                                                                                                                                                                                       \n",
       "6 2015-08-14 01:00:00                                                                                                                                                                                       \n",
       "  NULL.                 SnowDepth \n",
       "1                                 \n",
       "2 Event Timestamp (UTC) Value (cm)\n",
       "3                       0         \n",
       "4                       5         \n",
       "5                       -1        \n",
       "6                       -4        "
      ]
     },
     "metadata": {},
     "output_type": "display_data"
    }
   ],
   "source": [
    "snow_depth_callaghan <- read.csv(file = 'https://raw.githubusercontent.com/carlosperez67/Stat-201-Project/main/data/Callaghan/SD.csv', col.names = c(\"Time\", \"NULL\", \"SnowDepth\"))\n",
    "snow_depth_silverstar <- read.csv(file = 'https://raw.githubusercontent.com/carlosperez67/Stat-201-Project/main/data/SilverStar/SD.csv', col.names = c(\"Time\", \"NULL\", \"SnowDepth\"))\n",
    "\n",
    "head(snow_depth_silverstar)"
   ]
  },
  {
   "cell_type": "markdown",
   "id": "972a58f1-5d8d-42d5-8e3e-1c37d99adb0c",
   "metadata": {},
   "source": [
    "*Figure 1: Dataframe of snow depth at Silver Star, pre-wrangling.*"
   ]
  },
  {
   "cell_type": "markdown",
   "id": "5d7096e8-dc58-4c0b-b01b-a9ced931749a",
   "metadata": {},
   "source": [
    "As you can see from the dataframe above, we must from tidy and wrangle the data."
   ]
  },
  {
   "cell_type": "code",
   "execution_count": 3,
   "id": "3eee4b6e-5389-4a08-b7fb-acee6473de1a",
   "metadata": {},
   "outputs": [
    {
     "name": "stderr",
     "output_type": "stream",
     "text": [
      "Warning message in mask$eval_all_mutate(quo):\n",
      "“NAs introduced by coercion”\n",
      "Warning message in mask$eval_all_mutate(quo):\n",
      "“NAs introduced by coercion”\n"
     ]
    },
    {
     "data": {
      "text/html": [
       "<table class=\"dataframe\">\n",
       "<caption>A data.frame: 6 × 3</caption>\n",
       "<thead>\n",
       "\t<tr><th></th><th scope=col>Time</th><th scope=col>SnowDepth</th><th scope=col>Location</th></tr>\n",
       "\t<tr><th></th><th scope=col>&lt;dttm&gt;</th><th scope=col>&lt;dbl&gt;</th><th scope=col>&lt;chr&gt;</th></tr>\n",
       "</thead>\n",
       "<tbody>\n",
       "\t<tr><th scope=row>1</th><td>2015-08-13 22:00:00</td><td>0</td><td>SilverStar</td></tr>\n",
       "\t<tr><th scope=row>2</th><td>2015-08-13 23:00:00</td><td>5</td><td>SilverStar</td></tr>\n",
       "\t<tr><th scope=row>3</th><td>2015-08-14 04:00:00</td><td>2</td><td>SilverStar</td></tr>\n",
       "\t<tr><th scope=row>4</th><td>2015-08-14 05:00:00</td><td>3</td><td>SilverStar</td></tr>\n",
       "\t<tr><th scope=row>5</th><td>2015-08-14 06:00:00</td><td>2</td><td>SilverStar</td></tr>\n",
       "\t<tr><th scope=row>6</th><td>2015-08-14 07:00:00</td><td>2</td><td>SilverStar</td></tr>\n",
       "</tbody>\n",
       "</table>\n"
      ],
      "text/latex": [
       "A data.frame: 6 × 3\n",
       "\\begin{tabular}{r|lll}\n",
       "  & Time & SnowDepth & Location\\\\\n",
       "  & <dttm> & <dbl> & <chr>\\\\\n",
       "\\hline\n",
       "\t1 & 2015-08-13 22:00:00 & 0 & SilverStar\\\\\n",
       "\t2 & 2015-08-13 23:00:00 & 5 & SilverStar\\\\\n",
       "\t3 & 2015-08-14 04:00:00 & 2 & SilverStar\\\\\n",
       "\t4 & 2015-08-14 05:00:00 & 3 & SilverStar\\\\\n",
       "\t5 & 2015-08-14 06:00:00 & 2 & SilverStar\\\\\n",
       "\t6 & 2015-08-14 07:00:00 & 2 & SilverStar\\\\\n",
       "\\end{tabular}\n"
      ],
      "text/markdown": [
       "\n",
       "A data.frame: 6 × 3\n",
       "\n",
       "| <!--/--> | Time &lt;dttm&gt; | SnowDepth &lt;dbl&gt; | Location &lt;chr&gt; |\n",
       "|---|---|---|---|\n",
       "| 1 | 2015-08-13 22:00:00 | 0 | SilverStar |\n",
       "| 2 | 2015-08-13 23:00:00 | 5 | SilverStar |\n",
       "| 3 | 2015-08-14 04:00:00 | 2 | SilverStar |\n",
       "| 4 | 2015-08-14 05:00:00 | 3 | SilverStar |\n",
       "| 5 | 2015-08-14 06:00:00 | 2 | SilverStar |\n",
       "| 6 | 2015-08-14 07:00:00 | 2 | SilverStar |\n",
       "\n"
      ],
      "text/plain": [
       "  Time                SnowDepth Location  \n",
       "1 2015-08-13 22:00:00 0         SilverStar\n",
       "2 2015-08-13 23:00:00 5         SilverStar\n",
       "3 2015-08-14 04:00:00 2         SilverStar\n",
       "4 2015-08-14 05:00:00 3         SilverStar\n",
       "5 2015-08-14 06:00:00 2         SilverStar\n",
       "6 2015-08-14 07:00:00 2         SilverStar"
      ]
     },
     "metadata": {},
     "output_type": "display_data"
    }
   ],
   "source": [
    "# For Each DataSet we filter away the Null/NA values. Then we convert the charachter dates to R's built in date object type.\n",
    "# Next for the snowdepth we filter away the negative snow depths (impossible/instrument error)\n",
    "snow_depth_silverstar <- snow_depth_silverstar %>%\n",
    "    filter(!is.na(SnowDepth)) %>%\n",
    "    mutate(Time = strptime(Time, tz = \"GMT\", format = \"%Y-%m-%d %H:%M:%S\"),\n",
    "          SnowDepth = as.numeric(SnowDepth),\n",
    "          Location = \"SilverStar\") %>%\n",
    "    filter(SnowDepth >= 0, !is.na(SnowDepth)) %>%\n",
    "    select(Time, SnowDepth, Location)\n",
    "\n",
    "snow_depth_callaghan <- snow_depth_callaghan %>%\n",
    "    filter(!is.na(SnowDepth)) %>%\n",
    "    mutate(Time = strptime(Time, tz = \"GMT\", format = \"%Y-%m-%d %H:%M:%S\"),\n",
    "          SnowDepth = as.numeric(SnowDepth),\n",
    "          Location = \"Callaghan\") %>%\n",
    "    filter(SnowDepth >= 0, !is.na(SnowDepth)) %>%\n",
    "    select(Time, SnowDepth, Location)\n",
    "\n",
    "head(snow_depth_silverstar)"
   ]
  },
  {
   "cell_type": "markdown",
   "id": "2a853549-c34f-46e5-95a9-669df0b4347b",
   "metadata": {},
   "source": [
    "*Figure 2: Data post-wrangling.*"
   ]
  },
  {
   "cell_type": "markdown",
   "id": "a83b5583-6bbf-4277-a8cd-6bc1845e789b",
   "metadata": {},
   "source": [
    "Next lets join all these data sets together. "
   ]
  },
  {
   "cell_type": "code",
   "execution_count": 4,
   "id": "f8e86bce-5092-4307-8789-23131ccf09b3",
   "metadata": {},
   "outputs": [],
   "source": [
    "snow_data <- rbind(snow_depth_silverstar,snow_depth_callaghan)"
   ]
  },
  {
   "cell_type": "markdown",
   "id": "1140776e-9991-40ec-b007-5058a5e9c379",
   "metadata": {},
   "source": [
    "As stated in our introduction, the seasons play a decisive role in snow depth and air temperature. Therefore we will only look at data from the month of January, which is conveniently in the dead of the Canadian winter."
   ]
  },
  {
   "cell_type": "code",
   "execution_count": 5,
   "id": "89d9cd07-f411-4b1a-a3e6-87e2234f4a0e",
   "metadata": {},
   "outputs": [],
   "source": [
    "jan_data <- snow_data %>%\n",
    "    filter(as.numeric(strftime(snow_data$Time, \"%m\")) == 1,\n",
    "          as.numeric(strftime(snow_data$Time, \"%Y\")) == 2019,) \n",
    "\n",
    "#Adding another column to easily graph the dates on the x-axis\n",
    "jan_data <- jan_data %>%\n",
    "    mutate(Date = as.numeric(strftime(jan_data$Time, \"%d\")))"
   ]
  },
  {
   "cell_type": "markdown",
   "id": "ae807bf2-38d5-4d92-8e2f-9e9039802949",
   "metadata": {
    "tags": []
   },
   "source": [
    "## Sample Distributions"
   ]
  },
  {
   "cell_type": "code",
   "execution_count": 8,
   "id": "dfd7436c-5c06-4e37-8c02-4decc685ab12",
   "metadata": {},
   "outputs": [
    {
     "name": "stderr",
     "output_type": "stream",
     "text": [
      "`stat_bin()` using `bins = 30`. Pick better value with `binwidth`.\n",
      "\n"
     ]
    },
    {
     "data": {
      "image/png": "[encoded data removed]",
      "text/plain": [
       "plot without title"
      ]
     },
     "metadata": {
      "image/png": {
       "height": 420,
       "width": 420
      }
     },
     "output_type": "display_data"
    }
   ],
   "source": [
    "# Plotting Callaghan sample distribution for the month of january\n",
    "call_sample_dist_plot <-\n",
    "     jan_data %>% \n",
    "    filter(Location == \"Callaghan\") %>% \n",
    "     ggplot() +\n",
    "     geom_histogram(aes(x=SnowDepth), bins = 15, color=\"white\") +\n",
    "     xlab(\"Snow Depth (cm)\") + \n",
    "     theme(text = element_text(size=10)) + \n",
    "     ggtitle(\"Snow Depth Distribution: Callaghan\") \n",
    "\n",
    "silv_sample_dist_plot <-\n",
    "     jan_data %>% \n",
    "    filter(Location == \"SilverStar\") %>% \n",
    "     ggplot() +\n",
    "     geom_histogram(aes(x=SnowDepth), color=\"white\") +\n",
    "     xlab(\"Snow Depth (cm)\") + \n",
    "     theme(text = element_text(size=10)) + \n",
    "     ggtitle(\"Snow Depth Distribution: Silver Star\") \n",
    "\n",
    "#Displaying Both Histograms Side by Side\n",
    "grid.arrange(call_sample_dist_plot, silv_sample_dist_plot, ncol=2)"
   ]
  },
  {
   "cell_type": "markdown",
   "id": "6eaed872-0b90-4da2-ba50-eb00ed6cf332",
   "metadata": {},
   "source": [
    "*Figures 3 & 4: Sample distributions of snow depths for Callaghan and Silver Star Mountain.*"
   ]
  },
  {
   "cell_type": "markdown",
   "id": "60c58ffc-b1b4-499e-9f00-d4f491d21aa0",
   "metadata": {},
   "source": [
    "Visually, it appears that there is a difference between the Callaghan and Silver Star snow depths. Let's include a boxplot as well for another visualization that may help."
   ]
  },
  {
   "cell_type": "code",
   "execution_count": 15,
   "id": "1b67ea6a-6a14-4d67-aa0e-24203a27f9a0",
   "metadata": {},
   "outputs": [
    {
     "data": {
      "image/png": "[encoded data removed]",
      "text/plain": [
       "plot without title"
      ]
     },
     "metadata": {
      "image/png": {
       "height": 420,
       "width": 420
      }
     },
     "output_type": "display_data"
    }
   ],
   "source": [
    "boxplots <- \n",
    "    jan_data %>%  \n",
    "    ggplot(aes(x = Location, y = SnowDepth, fill = Location)) + \n",
    "    geom_boxplot() + \n",
    "    ylab(\"Snow Depth (cm)\") +\n",
    "    ggtitle(\"Boxplots of Snow Depth Levels\") +\n",
    "    theme(text = element_text(size=25))\n",
    "boxplots"
   ]
  },
  {
   "cell_type": "markdown",
   "id": "6e88aadc-96b4-4815-8f74-98868989ecd8",
   "metadata": {},
   "source": [
    "*Figures 5: Boxplot comparing the snow depths between the two mountains.*"
   ]
  },
  {
   "cell_type": "markdown",
   "id": "4344910e-6c5f-4949-8fdf-f87ef71d513b",
   "metadata": {},
   "source": [
    "Now let's estimate the mean snow depth (cm) for each location for January 2019 by calculating the mean of our samples. We'll also find the sample variances and standard deviations to see the variability within each sample."
   ]
  },
  {
   "cell_type": "code",
   "execution_count": 21,
   "id": "dd1dd0ef-e135-4dfe-9603-4f4337ca3695",
   "metadata": {},
   "outputs": [
    {
     "data": {
      "text/html": [
       "<table class=\"dataframe\">\n",
       "<caption>A tibble: 2 × 5</caption>\n",
       "<thead>\n",
       "\t<tr><th scope=col>Location</th><th scope=col>MeanSnowDepth</th><th scope=col>sample_var</th><th scope=col>sample_sd</th><th scope=col>n</th></tr>\n",
       "\t<tr><th scope=col>&lt;chr&gt;</th><th scope=col>&lt;dbl&gt;</th><th scope=col>&lt;dbl&gt;</th><th scope=col>&lt;dbl&gt;</th><th scope=col>&lt;int&gt;</th></tr>\n",
       "</thead>\n",
       "<tbody>\n",
       "\t<tr><td>Callaghan </td><td>191.5876</td><td>237.3462</td><td>15.406043</td><td>742</td></tr>\n",
       "\t<tr><td>SilverStar</td><td>158.2051</td><td> 58.2903</td><td> 7.634808</td><td>741</td></tr>\n",
       "</tbody>\n",
       "</table>\n"
      ],
      "text/latex": [
       "A tibble: 2 × 5\n",
       "\\begin{tabular}{lllll}\n",
       " Location & MeanSnowDepth & sample\\_var & sample\\_sd & n\\\\\n",
       " <chr> & <dbl> & <dbl> & <dbl> & <int>\\\\\n",
       "\\hline\n",
       "\t Callaghan  & 191.5876 & 237.3462 & 15.406043 & 742\\\\\n",
       "\t SilverStar & 158.2051 &  58.2903 &  7.634808 & 741\\\\\n",
       "\\end{tabular}\n"
      ],
      "text/markdown": [
       "\n",
       "A tibble: 2 × 5\n",
       "\n",
       "| Location &lt;chr&gt; | MeanSnowDepth &lt;dbl&gt; | sample_var &lt;dbl&gt; | sample_sd &lt;dbl&gt; | n &lt;int&gt; |\n",
       "|---|---|---|---|---|\n",
       "| Callaghan  | 191.5876 | 237.3462 | 15.406043 | 742 |\n",
       "| SilverStar | 158.2051 |  58.2903 |  7.634808 | 741 |\n",
       "\n"
      ],
      "text/plain": [
       "  Location   MeanSnowDepth sample_var sample_sd n  \n",
       "1 Callaghan  191.5876      237.3462   15.406043 742\n",
       "2 SilverStar 158.2051       58.2903    7.634808 741"
      ]
     },
     "metadata": {},
     "output_type": "display_data"
    }
   ],
   "source": [
    "jan_2019_summary <- jan_data %>%\n",
    "    group_by(Location) %>%\n",
    "    summarize(MeanSnowDepth = mean(SnowDepth),\n",
    "              sample_var = var(SnowDepth),\n",
    "              sample_sd = sd(SnowDepth),\n",
    "              n = n())\n",
    "jan_2019_summary"
   ]
  },
  {
   "cell_type": "markdown",
   "id": "04b127a1-1ba0-4ff5-8fc8-63647e78d868",
   "metadata": {},
   "source": [
    "*Figure 6: Summary tibble containing sample means, sample variances and the number of observations in each sample.*"
   ]
  },
  {
   "cell_type": "markdown",
   "id": "c75e9c7f-7ea7-4a19-93c1-1f7b3e5db660",
   "metadata": {},
   "source": [
    "There are **742** observations in the Callaghan data and **741** observations in the Silver Star data. Note that we can see the mean snow depth is actually a higher for Callaghan, the mountain with the lower elevation compared to Silver Star, the mountain with higher elevation. Quite interesting, and perhaps a little unexpected."
   ]
  },
  {
   "cell_type": "markdown",
   "id": "d6ca4182-6293-4ca3-a534-a6c281aa5105",
   "metadata": {},
   "source": [
    "A couple more things to note. Our sample sizes, though almost the same size, are off by 1. However, the sample variances are definitely very different from each other, which may affect the validity of our findings. More elaboration in the discussion section."
   ]
  },
  {
   "cell_type": "markdown",
   "id": "3e5ad9df-f926-45ca-b4d3-4e374ab6a754",
   "metadata": {},
   "source": [
    "## Methods: Plan and Results"
   ]
  },
  {
   "cell_type": "markdown",
   "id": "401f6aec-35c6-430f-b1a6-a9c19677bd6d",
   "metadata": {},
   "source": [
    "From our preliminary results, we see that the mean snow depth for Callaghan is actually greater than Silver Star, so based on that we can expect to find that a higher elevation does not lead to greater snow depth. However, we shouldn't change our expectations based on this and instead stay true to our original intentions of this study, which is to examine if higher elevation leads to more snow depth. As such, we’ll state the null hypothesis to be that there’s no difference between the mean snow depths of Silver Star and Callaghan and our alternate hypothesis to be that the difference between Silver Star and Callaghan snow depths is greater than zero (ie. mean snow depth of Silver Star is greater than mean snow depth of Callaghan). We will perform the hypothesis testing by calculating the t-score by doing a two-sample t-test.\n",
    "\n",
    "We will also calculate the confidence intervals through asymptotic methods (normal distribution, CLT assumptions) to evaluate the accuracy of our estimates. If our expected findings are correct, then we can also expect not to reject the null hypothesis. Based on our expected findings, if higher elevation does not lead to greater snow depth, then more questions could be raised on why this is, such as the geography/location of the mountains playing a larger role in snow depth. Our expected conclusions could also help future companies/wealthy investors evaluate new locations for ski resorts, knowing whether elevation is or isn't a big factor in ensuring sufficient snow depth for a good skiing experience.\n"
   ]
  },
  {
   "cell_type": "markdown",
   "id": "603b5161-41c0-4370-8bc6-0c90bc948fa8",
   "metadata": {},
   "source": [
    "### CLT Based Confidence Interval Calculations"
   ]
  },
  {
   "cell_type": "markdown",
   "id": "5502969d-8ed2-4cf4-ab53-ce31a1e94553",
   "metadata": {},
   "source": [
    "Now let's calculate the confidence intervals based on the assumptions of CLT. First, let's make sure CLT is applicable in our situation:\n",
    "- Are the sample sizes large enough? Yes, our sample sizes are large enough. We do not know how the true population distribution may look like for each mountain, but examining the sample distributions suggests that it may not be normal. However, this is okay since our sample sizes for both samples are very large\n",
    "- Were the samples taken in an independent fashion? Yes\n",
    "- Is the estimator being used a sum of random components? Yes, as we're finding the difference in  means, and means are a sum of random components.\n",
    "\n",
    "Now that we know CLT can be applied, let's find the 95% confidence interval for the difference in means between Silver Star and Callaghan snow depth. We chose 95% as that is a common/reputable number often used in academia. Lowering our confidence interval would give us a narrower and more precise interval, but consequently there is less confidence the interval will contain the population parameter we are trying to find."
   ]
  },
  {
   "cell_type": "code",
   "execution_count": 22,
   "id": "f52a74b1-1219-49a2-be4b-2e54f3b1e617",
   "metadata": {},
   "outputs": [],
   "source": [
    "callaghan_var <- jan_2019_summary$sample_var[1]\n",
    "silverstar_var <- jan_2019_summary$sample_var[2]\n",
    "\n",
    "callaghan_n <- jan_2019_summary$n[1]\n",
    "silverstar_n <- jan_2019_summary$n[2]"
   ]
  },
  {
   "cell_type": "code",
   "execution_count": 23,
   "id": "5e3c3002-854c-43aa-8a2f-1a3a65a885f5",
   "metadata": {},
   "outputs": [
    {
     "data": {
      "text/html": [
       "<table class=\"dataframe\">\n",
       "<caption>A tibble: 1 × 2</caption>\n",
       "<thead>\n",
       "\t<tr><th scope=col>lower_ci</th><th scope=col>upper_ci</th></tr>\n",
       "\t<tr><th scope=col>&lt;dbl&gt;</th><th scope=col>&lt;dbl&gt;</th></tr>\n",
       "</thead>\n",
       "<tbody>\n",
       "\t<tr><td>-34.6198</td><td>-32.14515</td></tr>\n",
       "</tbody>\n",
       "</table>\n"
      ],
      "text/latex": [
       "A tibble: 1 × 2\n",
       "\\begin{tabular}{ll}\n",
       " lower\\_ci & upper\\_ci\\\\\n",
       " <dbl> & <dbl>\\\\\n",
       "\\hline\n",
       "\t -34.6198 & -32.14515\\\\\n",
       "\\end{tabular}\n"
      ],
      "text/markdown": [
       "\n",
       "A tibble: 1 × 2\n",
       "\n",
       "| lower_ci &lt;dbl&gt; | upper_ci &lt;dbl&gt; |\n",
       "|---|---|\n",
       "| -34.6198 | -32.14515 |\n",
       "\n"
      ],
      "text/plain": [
       "  lower_ci upper_ci \n",
       "1 -34.6198 -32.14515"
      ]
     },
     "metadata": {},
     "output_type": "display_data"
    }
   ],
   "source": [
    "standard_error_2_sample <- sqrt(callaghan_var / callaghan_n + silverstar_var / silverstar_n)\n",
    "differece_in_means = jan_2019_summary$MeanSnowDepth[2] - jan_2019_summary$MeanSnowDepth[1]\n",
    "\n",
    "#Finding the 95% Confidence Interval\n",
    "\n",
    "two_sample_ci <- tibble (\n",
    "                    lower_ci = differece_in_means - qnorm(0.975) * sqrt(silverstar_var/silverstar_n + callaghan_var/callaghan_n),\n",
    "                    upper_ci = differece_in_means + qnorm(0.975) * sqrt(silverstar_var/silverstar_n + callaghan_var/callaghan_n))\n",
    "\n",
    "two_sample_ci"
   ]
  },
  {
   "cell_type": "markdown",
   "id": "d6437fdc-0146-45d5-9e4b-105da72749df",
   "metadata": {},
   "source": [
    "*Figure 7: CLT Theory obtained confidence interval.*"
   ]
  },
  {
   "cell_type": "markdown",
   "id": "1aeef1a2-30cf-4b67-b35f-cc31daf360c7",
   "metadata": {},
   "source": [
    "So here we observe that the 2 sample difference in means has a confidence interval of -34.6198 to -32.14515. If we were to repeat this process of calculating the intervals with different samples, we would expect that 95% of the total intervals would contain the true population parameter (the difference in means)."
   ]
  },
  {
   "cell_type": "markdown",
   "id": "e98f25ce-41f0-439b-be4a-0df02ac144d9",
   "metadata": {},
   "source": [
    "### Hypothesis Testing: One-Sided Two-Sample T-Test"
   ]
  },
  {
   "cell_type": "markdown",
   "id": "392c5963-140a-4b0f-b2f8-b03acea7079e",
   "metadata": {},
   "source": [
    "For this hypothesis test, we need to ensure that our two samples are independent. This case is true because the snow depth at Callaghan has no effect on the snow depth on SilverStar. Also, we'll test at a 0.05 significance level."
   ]
  },
  {
   "cell_type": "markdown",
   "id": "722949a5-10bc-4ebb-af1c-67dd7944c50d",
   "metadata": {},
   "source": [
    "We need to rely on the CLT because as seen earlier, our population is not normally distributed. This is because the CLT states that the sampling distribution of the sample average will eventually converge into the normal distribution. \n",
    "\n",
    "If our sample size is large enough the T-Distribution will converge to $t_{n-1}$ under the null hypothesis.\n",
    "\n",
    "Our Hypothesis will be: $$H_0: \\mu_{\\text{SilverStar}} - \\mu_{\\text{Callaghan}} = 0$$ $$H_1: \\mu_{\\text{SilverStar}} - \\mu_{\\text{Callaghan}} > 0$$\n",
    "\n",
    "and we will use this test statistic:\n",
    "$$\n",
    "T = \\frac{\\bar{x}_{\\text{SilverStar}} - \\bar{x}_{\\text{Callaghan}}}{\\sqrt{\\frac{s^2_{\\text{SilverStar}}}{n_1}+\\frac{s^2_{\\text{Callaghan}}}{n_2}}}\n",
    "$$\n",
    "\n",
    "Where $\\bar{x}_{\\text{SilverStar}}$ and $\\bar{x}_{\\text{Callaghan}}$ are the sample means of snow depth for SilverStar and Callaghan mountains, respectively; $s^2_{\\text{SilverStar}}$ and $s^2_{\\text{Callaghan}}$ are the sample variances for the SilverStar and Callaghan mountains, respectively; and $n_1$ and $n_2$ are the sample size for SilverStar and Adelie mountains, respectively. "
   ]
  },
  {
   "cell_type": "code",
   "execution_count": 24,
   "id": "12eacec3-c52d-405e-aee3-26f0adeb0d35",
   "metadata": {},
   "outputs": [
    {
     "data": {
      "text/html": [
       "<table class=\"dataframe\">\n",
       "<caption>A tibble: 1 × 10</caption>\n",
       "<thead>\n",
       "\t<tr><th scope=col>estimate</th><th scope=col>estimate1</th><th scope=col>estimate2</th><th scope=col>statistic</th><th scope=col>p.value</th><th scope=col>parameter</th><th scope=col>conf.low</th><th scope=col>conf.high</th><th scope=col>method</th><th scope=col>alternative</th></tr>\n",
       "\t<tr><th scope=col>&lt;dbl&gt;</th><th scope=col>&lt;dbl&gt;</th><th scope=col>&lt;dbl&gt;</th><th scope=col>&lt;dbl&gt;</th><th scope=col>&lt;dbl&gt;</th><th scope=col>&lt;dbl&gt;</th><th scope=col>&lt;dbl&gt;</th><th scope=col>&lt;dbl&gt;</th><th scope=col>&lt;chr&gt;</th><th scope=col>&lt;chr&gt;</th></tr>\n",
       "</thead>\n",
       "<tbody>\n",
       "\t<tr><td>-33.38247</td><td>158.2051</td><td>191.5876</td><td>-52.87906</td><td>1</td><td>1084.59</td><td>-34.42175</td><td>Inf</td><td>Welch Two Sample t-test</td><td>greater</td></tr>\n",
       "</tbody>\n",
       "</table>\n"
      ],
      "text/latex": [
       "A tibble: 1 × 10\n",
       "\\begin{tabular}{llllllllll}\n",
       " estimate & estimate1 & estimate2 & statistic & p.value & parameter & conf.low & conf.high & method & alternative\\\\\n",
       " <dbl> & <dbl> & <dbl> & <dbl> & <dbl> & <dbl> & <dbl> & <dbl> & <chr> & <chr>\\\\\n",
       "\\hline\n",
       "\t -33.38247 & 158.2051 & 191.5876 & -52.87906 & 1 & 1084.59 & -34.42175 & Inf & Welch Two Sample t-test & greater\\\\\n",
       "\\end{tabular}\n"
      ],
      "text/markdown": [
       "\n",
       "A tibble: 1 × 10\n",
       "\n",
       "| estimate &lt;dbl&gt; | estimate1 &lt;dbl&gt; | estimate2 &lt;dbl&gt; | statistic &lt;dbl&gt; | p.value &lt;dbl&gt; | parameter &lt;dbl&gt; | conf.low &lt;dbl&gt; | conf.high &lt;dbl&gt; | method &lt;chr&gt; | alternative &lt;chr&gt; |\n",
       "|---|---|---|---|---|---|---|---|---|---|\n",
       "| -33.38247 | 158.2051 | 191.5876 | -52.87906 | 1 | 1084.59 | -34.42175 | Inf | Welch Two Sample t-test | greater |\n",
       "\n"
      ],
      "text/plain": [
       "  estimate  estimate1 estimate2 statistic p.value parameter conf.low  conf.high\n",
       "1 -33.38247 158.2051  191.5876  -52.87906 1       1084.59   -34.42175 Inf      \n",
       "  method                  alternative\n",
       "1 Welch Two Sample t-test greater    "
      ]
     },
     "metadata": {},
     "output_type": "display_data"
    }
   ],
   "source": [
    "# Here R does all the heavy lifting for us, in terms of calculating the test\n",
    "# statistic and calculating the p-value\n",
    "t_test <-\n",
    "    tidy(\n",
    "        t.test(x = filter(jan_data, Location == \"SilverStar\")$SnowDepth,\n",
    "               y = filter(jan_data, Location == \"Callaghan\")$SnowDepth,\n",
    "               alternative = \"greater\")) \n",
    "\n",
    "#greater because alternate hypothesis is that higher elevation results in more snow depth\n",
    "\n",
    "\n",
    "t_test\n"
   ]
  },
  {
   "cell_type": "markdown",
   "id": "b8a9bcb4-b67c-4db3-aa4b-df6375911ee9",
   "metadata": {},
   "source": [
    "*Figure 8: Two-Sample T-Test Results.*"
   ]
  },
  {
   "cell_type": "markdown",
   "id": "7c7eedc5-0f99-4ec3-a318-73ddf79ea328",
   "metadata": {},
   "source": [
    "Based on the results above, we can see that we've obtained a p-value of 1. As such, we can conclude at the 0.05 significance level that we will not reject the null hypothesis."
   ]
  },
  {
   "cell_type": "markdown",
   "id": "c7c62e73-2f34-4861-9a55-c7e13a41cf91",
   "metadata": {},
   "source": [
    "## Discussion"
   ]
  },
  {
   "cell_type": "markdown",
   "id": "6ab0b158-7bee-4f5e-bbcc-d7bfac3cc0aa",
   "metadata": {},
   "source": [
    "In our project, we first cleaned and wrangled the data, then made some visualizations of the samples and calculated some preliminary values like the sample means and variances. Then we determined the confidence intervals based on the CLT. Finally, we conducted our hypothesis test using a one-sided two-sample t-test, and found that at a 0.05 significance level we should not reject the null hypothesis. This is consistent with what we expected to find based on the preliminary results.\n",
    "\n",
    "Firstly, when calculating the confidence intervals, we decided against calculating them through bootstrapping. Although stated in the project instructions, we felt that it would be unnecessary to do so for sake of comparison with the CLT approach. Because our samples are independent, we would have to find two separate bootstrap distributions and overlap them together to find the intervals, and we felt it was just unnecessary to do in the scope of this project.\n",
    "\n",
    "Now for some further discussion on our p-value of 1. We could accept these results and conclude that mountain elevation has no effect on the amount of snow depth, but we believe there are some factors in our findings that pose some doubt. Let's first talk about the validity of our tests. As noted previously, our sample sizes are actually not exactly the same, and our sample variances are far off from each other. This may have an effect on the power of our tests, and may suggest some errors. Another possibility is that our assumptions and background research are not extensive enough, ie. there may be other factors in play that affect snow depth more so than the mountain elevations. One such possibility is that our geographical locations are not in close enough proximity that the climate/weather patterns are not similar.  Perhaps the air pressure or moisture levels are affecting snow depth too, or the larger volume of human activity at Silver Star may be affecting the snow depth unintentionally.\n",
    "\n",
    "Nonetheless, we still believe our findings can offer some value to future research/questions. Those who accept our findings may perhaps perform more research into other factors that may affect snow depth. Future companies/wealthy investors can also evaluate new locations for ski resorts, knowing that elevation isn't a big factor in ensuring sufficient snow depth for a good skiing experience."
   ]
  },
  {
   "cell_type": "markdown",
   "id": "67007423-0e7f-4f6a-9504-b26532447e8f",
   "metadata": {},
   "source": [
    "## References"
   ]
  },
  {
   "cell_type": "markdown",
   "id": "fcbfbbbe-4635-4bfd-8d3a-283c6cf6c6ec",
   "metadata": {},
   "source": [
    "Grünewald, T., Bühler, Y., & Lehning, M. (2014). Elevation dependency of mountain snow depth. The Cryosphere, 8(6), 2381–2394. https://doi.org/10.5194/tc-8-2381-2014\n",
    "\n",
    "Kirchner, P. B., Bales, R. C., Molotch, N. P., Flanagan, J., & Guo, Q. (2014). LiDAR measurement of seasonal snow accumulation along an elevation gradient in the southern Sierra Nevada, California. Hydrology and Earth System Sciences, 18(10), 4261–4275. https://doi.org/10.5194/hess-18-4261-2014\n",
    "\n",
    "Ye, H., & Ellison, M. (2003). Changes in transitional snowfall season length in northern Eurasia: TRANSITIONAL SNOWFALL SEASON. Geophysical Research Letters, 30(5), n/a-n/a. https://doi.org/10.1029/2003GL016873\n"
   ]
  },
  {
   "cell_type": "markdown",
   "id": "cfbaa1a2-870f-4228-bcbc-728c59c7a02d",
   "metadata": {},
   "source": [
    "### Data Sources"
   ]
  },
  {
   "cell_type": "markdown",
   "id": "bf567a48-1139-4085-8415-c3ed4822d232",
   "metadata": {},
   "source": [
    "Government of British Columbia. (2022) Callagan Telementary. https://aqrt.nrs.gov.bc.ca/Data/Location/Summary/Location/3A20P/Interval/Latest\n",
    "\n",
    "Government of British Columbia. (2022) Silver Star Mountain  Telementary. https://aqrt.nrs.gov.bc.ca/Data/Location/Summary/Location/2F10P/Interval/Latest"
   ]
  },
  {
   "cell_type": "code",
   "execution_count": null,
   "id": "74e1286d-2478-4bca-901b-c4ddb8d4ab04",
   "metadata": {},
   "outputs": [],
   "source": []
  }
 ],
 "metadata": {
  "kernelspec": {
   "display_name": "R",
   "language": "R",
   "name": "ir"
  },
  "language_info": {
   "codemirror_mode": "r",
   "file_extension": ".r",
   "mimetype": "text/x-r-source",
   "name": "R",
   "pygments_lexer": "r",
   "version": "4.1.3"
  },
  "toc-autonumbering": false
 },
 "nbformat": 4,
 "nbformat_minor": 5
}
